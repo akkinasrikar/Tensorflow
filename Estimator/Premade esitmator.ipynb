{
 "cells": [
  {
   "cell_type": "code",
   "execution_count": 1,
   "metadata": {},
   "outputs": [],
   "source": [
    "import tensorflow as tf\n",
    "import pandas as pd"
   ]
  },
  {
   "cell_type": "code",
   "execution_count": 2,
   "metadata": {},
   "outputs": [],
   "source": [
    "csv_column_names = ['SepalLength', 'SepalWidth', 'PetalLength', 'PetalWidth', 'Species']\n",
    "species = ['Setosa', 'Versicolor', 'Virginica']"
   ]
  },
  {
   "cell_type": "code",
   "execution_count": 3,
   "metadata": {},
   "outputs": [],
   "source": [
    "train_path = tf.keras.utils.get_file(\n",
    "    \"iris_training.csv\",\n",
    "    \"https://storage.googleapis.com/download.tensorflow.org/data/iris_training.csv\")\n",
    "test_path = tf.keras.utils.get_file(\n",
    "    \"iris_test.csv\", \n",
    "    \"https://storage.googleapis.com/download.tensorflow.org/data/iris_test.csv\")"
   ]
  },
  {
   "cell_type": "code",
   "execution_count": 4,
   "metadata": {},
   "outputs": [],
   "source": [
    "train=pd.read_csv(train_path,names=csv_column_names,header=0)\n",
    "test=pd.read_csv(test_path,names=csv_column_names,header=0)"
   ]
  },
  {
   "cell_type": "code",
   "execution_count": 5,
   "metadata": {},
   "outputs": [
    {
     "data": {
      "text/html": [
       "<div>\n",
       "<style scoped>\n",
       "    .dataframe tbody tr th:only-of-type {\n",
       "        vertical-align: middle;\n",
       "    }\n",
       "\n",
       "    .dataframe tbody tr th {\n",
       "        vertical-align: top;\n",
       "    }\n",
       "\n",
       "    .dataframe thead th {\n",
       "        text-align: right;\n",
       "    }\n",
       "</style>\n",
       "<table border=\"1\" class=\"dataframe\">\n",
       "  <thead>\n",
       "    <tr style=\"text-align: right;\">\n",
       "      <th></th>\n",
       "      <th>SepalLength</th>\n",
       "      <th>SepalWidth</th>\n",
       "      <th>PetalLength</th>\n",
       "      <th>PetalWidth</th>\n",
       "      <th>Species</th>\n",
       "    </tr>\n",
       "  </thead>\n",
       "  <tbody>\n",
       "    <tr>\n",
       "      <th>0</th>\n",
       "      <td>6.4</td>\n",
       "      <td>2.8</td>\n",
       "      <td>5.6</td>\n",
       "      <td>2.2</td>\n",
       "      <td>2</td>\n",
       "    </tr>\n",
       "    <tr>\n",
       "      <th>1</th>\n",
       "      <td>5.0</td>\n",
       "      <td>2.3</td>\n",
       "      <td>3.3</td>\n",
       "      <td>1.0</td>\n",
       "      <td>1</td>\n",
       "    </tr>\n",
       "    <tr>\n",
       "      <th>2</th>\n",
       "      <td>4.9</td>\n",
       "      <td>2.5</td>\n",
       "      <td>4.5</td>\n",
       "      <td>1.7</td>\n",
       "      <td>2</td>\n",
       "    </tr>\n",
       "    <tr>\n",
       "      <th>3</th>\n",
       "      <td>4.9</td>\n",
       "      <td>3.1</td>\n",
       "      <td>1.5</td>\n",
       "      <td>0.1</td>\n",
       "      <td>0</td>\n",
       "    </tr>\n",
       "    <tr>\n",
       "      <th>4</th>\n",
       "      <td>5.7</td>\n",
       "      <td>3.8</td>\n",
       "      <td>1.7</td>\n",
       "      <td>0.3</td>\n",
       "      <td>0</td>\n",
       "    </tr>\n",
       "  </tbody>\n",
       "</table>\n",
       "</div>"
      ],
      "text/plain": [
       "   SepalLength  SepalWidth  PetalLength  PetalWidth  Species\n",
       "0          6.4         2.8          5.6         2.2        2\n",
       "1          5.0         2.3          3.3         1.0        1\n",
       "2          4.9         2.5          4.5         1.7        2\n",
       "3          4.9         3.1          1.5         0.1        0\n",
       "4          5.7         3.8          1.7         0.3        0"
      ]
     },
     "execution_count": 5,
     "metadata": {},
     "output_type": "execute_result"
    }
   ],
   "source": [
    "train.head()"
   ]
  },
  {
   "cell_type": "code",
   "execution_count": 6,
   "metadata": {},
   "outputs": [],
   "source": [
    "train_y=train.pop(\"Species\")\n",
    "test_y=test.pop(\"Species\")"
   ]
  },
  {
   "cell_type": "code",
   "execution_count": 7,
   "metadata": {},
   "outputs": [
    {
     "data": {
      "text/html": [
       "<div>\n",
       "<style scoped>\n",
       "    .dataframe tbody tr th:only-of-type {\n",
       "        vertical-align: middle;\n",
       "    }\n",
       "\n",
       "    .dataframe tbody tr th {\n",
       "        vertical-align: top;\n",
       "    }\n",
       "\n",
       "    .dataframe thead th {\n",
       "        text-align: right;\n",
       "    }\n",
       "</style>\n",
       "<table border=\"1\" class=\"dataframe\">\n",
       "  <thead>\n",
       "    <tr style=\"text-align: right;\">\n",
       "      <th></th>\n",
       "      <th>SepalLength</th>\n",
       "      <th>SepalWidth</th>\n",
       "      <th>PetalLength</th>\n",
       "      <th>PetalWidth</th>\n",
       "    </tr>\n",
       "  </thead>\n",
       "  <tbody>\n",
       "    <tr>\n",
       "      <th>0</th>\n",
       "      <td>6.4</td>\n",
       "      <td>2.8</td>\n",
       "      <td>5.6</td>\n",
       "      <td>2.2</td>\n",
       "    </tr>\n",
       "    <tr>\n",
       "      <th>1</th>\n",
       "      <td>5.0</td>\n",
       "      <td>2.3</td>\n",
       "      <td>3.3</td>\n",
       "      <td>1.0</td>\n",
       "    </tr>\n",
       "    <tr>\n",
       "      <th>2</th>\n",
       "      <td>4.9</td>\n",
       "      <td>2.5</td>\n",
       "      <td>4.5</td>\n",
       "      <td>1.7</td>\n",
       "    </tr>\n",
       "    <tr>\n",
       "      <th>3</th>\n",
       "      <td>4.9</td>\n",
       "      <td>3.1</td>\n",
       "      <td>1.5</td>\n",
       "      <td>0.1</td>\n",
       "    </tr>\n",
       "    <tr>\n",
       "      <th>4</th>\n",
       "      <td>5.7</td>\n",
       "      <td>3.8</td>\n",
       "      <td>1.7</td>\n",
       "      <td>0.3</td>\n",
       "    </tr>\n",
       "  </tbody>\n",
       "</table>\n",
       "</div>"
      ],
      "text/plain": [
       "   SepalLength  SepalWidth  PetalLength  PetalWidth\n",
       "0          6.4         2.8          5.6         2.2\n",
       "1          5.0         2.3          3.3         1.0\n",
       "2          4.9         2.5          4.5         1.7\n",
       "3          4.9         3.1          1.5         0.1\n",
       "4          5.7         3.8          1.7         0.3"
      ]
     },
     "execution_count": 7,
     "metadata": {},
     "output_type": "execute_result"
    }
   ],
   "source": [
    "train.head()"
   ]
  },
  {
   "cell_type": "markdown",
   "metadata": {},
   "source": [
    "To write a TensorFlow program based on pre-made Estimators, you must perform the following tasks:\n",
    "\n",
    "*Create one or more input functions.\n",
    "\n",
    "*Define the model's feature columns.\n",
    "\n",
    "*Instantiate an Estimator, specifying the feature columns and various hyperparameters.\n",
    "\n",
    "*Call one or more methods on the Estimator object, passing the appropriate input function as the source of the data."
   ]
  },
  {
   "cell_type": "code",
   "execution_count": 8,
   "metadata": {},
   "outputs": [],
   "source": [
    "def input_function(features,labels,training=True,batch_size=256):\n",
    "    \n",
    "    dataset = tf.data.Dataset.from_tensor_slices((dict(features), labels))\n",
    "    if training:\n",
    "        dataset=dataset.shuffle(1000).repeat()\n",
    "    \n",
    "    return dataset.batch(batch_size)"
   ]
  },
  {
   "cell_type": "code",
   "execution_count": 9,
   "metadata": {},
   "outputs": [],
   "source": [
    "my_feature_columns=[]\n",
    "for key in train.keys():\n",
    "    my_feature_columns.append(tf.feature_column.numeric_column(key=key))"
   ]
  },
  {
   "cell_type": "code",
   "execution_count": 10,
   "metadata": {},
   "outputs": [
    {
     "data": {
      "text/plain": [
       "[NumericColumn(key='SepalLength', shape=(1,), default_value=None, dtype=tf.float32, normalizer_fn=None),\n",
       " NumericColumn(key='SepalWidth', shape=(1,), default_value=None, dtype=tf.float32, normalizer_fn=None),\n",
       " NumericColumn(key='PetalLength', shape=(1,), default_value=None, dtype=tf.float32, normalizer_fn=None),\n",
       " NumericColumn(key='PetalWidth', shape=(1,), default_value=None, dtype=tf.float32, normalizer_fn=None)]"
      ]
     },
     "execution_count": 10,
     "metadata": {},
     "output_type": "execute_result"
    }
   ],
   "source": [
    "my_feature_columns"
   ]
  },
  {
   "cell_type": "code",
   "execution_count": 11,
   "metadata": {},
   "outputs": [
    {
     "name": "stdout",
     "output_type": "stream",
     "text": [
      "INFO:tensorflow:Using default config.\n",
      "WARNING:tensorflow:Using temporary folder as model directory: C:\\Users\\personal\\AppData\\Local\\Temp\\tmpdyrrx1vi\n",
      "INFO:tensorflow:Using config: {'_model_dir': 'C:\\\\Users\\\\personal\\\\AppData\\\\Local\\\\Temp\\\\tmpdyrrx1vi', '_tf_random_seed': None, '_save_summary_steps': 100, '_save_checkpoints_steps': None, '_save_checkpoints_secs': 600, '_session_config': allow_soft_placement: true\n",
      "graph_options {\n",
      "  rewrite_options {\n",
      "    meta_optimizer_iterations: ONE\n",
      "  }\n",
      "}\n",
      ", '_keep_checkpoint_max': 5, '_keep_checkpoint_every_n_hours': 10000, '_log_step_count_steps': 100, '_train_distribute': None, '_device_fn': None, '_protocol': None, '_eval_distribute': None, '_experimental_distribute': None, '_experimental_max_worker_delay_secs': None, '_session_creation_timeout_secs': 7200, '_service': None, '_cluster_spec': ClusterSpec({}), '_task_type': 'worker', '_task_id': 0, '_global_id_in_cluster': 0, '_master': '', '_evaluation_master': '', '_is_chief': True, '_num_ps_replicas': 0, '_num_worker_replicas': 1}\n"
     ]
    }
   ],
   "source": [
    "classifier=tf.estimator.DNNClassifier(feature_columns=my_feature_columns,\n",
    "                                     hidden_units=[64,32,16,8],\n",
    "                                     n_classes=3)"
   ]
  },
  {
   "cell_type": "code",
   "execution_count": 12,
   "metadata": {},
   "outputs": [
    {
     "name": "stdout",
     "output_type": "stream",
     "text": [
      "WARNING:tensorflow:From C:\\Users\\personal\\AppData\\Roaming\\Python\\Python37\\site-packages\\tensorflow\\python\\training\\training_util.py:236: Variable.initialized_value (from tensorflow.python.ops.variables) is deprecated and will be removed in a future version.\n",
      "Instructions for updating:\n",
      "Use Variable.read_value. Variables in 2.X are initialized automatically both in eager and graph (inside tf.defun) contexts.\n",
      "INFO:tensorflow:Calling model_fn.\n",
      "WARNING:tensorflow:Layer dnn is casting an input tensor from dtype float64 to the layer's dtype of float32, which is new behavior in TensorFlow 2.  The layer has dtype float32 because its dtype defaults to floatx.\n",
      "\n",
      "If you intended to run this layer in float32, you can safely ignore this warning. If in doubt, this warning is likely only an issue if you are porting a TensorFlow 1.X model to TensorFlow 2.\n",
      "\n",
      "To change all layers to have dtype float64 by default, call `tf.keras.backend.set_floatx('float64')`. To change just this layer, pass dtype='float64' to the layer constructor. If you are the author of this layer, you can disable autocasting by passing autocast=False to the base Layer constructor.\n",
      "\n",
      "WARNING:tensorflow:From C:\\Users\\personal\\AppData\\Roaming\\Python\\Python37\\site-packages\\tensorflow\\python\\keras\\optimizer_v2\\adagrad.py:83: calling Constant.__init__ (from tensorflow.python.ops.init_ops) with dtype is deprecated and will be removed in a future version.\n",
      "Instructions for updating:\n",
      "Call initializer instance with the dtype argument instead of passing it to the constructor\n",
      "INFO:tensorflow:Done calling model_fn.\n",
      "INFO:tensorflow:Create CheckpointSaverHook.\n",
      "INFO:tensorflow:Graph was finalized.\n",
      "INFO:tensorflow:Running local_init_op.\n",
      "INFO:tensorflow:Done running local_init_op.\n",
      "INFO:tensorflow:Calling checkpoint listeners before saving checkpoint 0...\n",
      "INFO:tensorflow:Saving checkpoints for 0 into C:\\Users\\personal\\AppData\\Local\\Temp\\tmpdyrrx1vi\\model.ckpt.\n",
      "INFO:tensorflow:Calling checkpoint listeners after saving checkpoint 0...\n",
      "INFO:tensorflow:loss = 1.0175161, step = 0\n",
      "INFO:tensorflow:global_step/sec: 560.151\n",
      "INFO:tensorflow:loss = 0.9466158, step = 100 (0.179 sec)\n",
      "INFO:tensorflow:global_step/sec: 663.934\n",
      "INFO:tensorflow:loss = 0.89969844, step = 200 (0.151 sec)\n",
      "INFO:tensorflow:global_step/sec: 622.856\n",
      "INFO:tensorflow:loss = 0.86595106, step = 300 (0.161 sec)\n",
      "INFO:tensorflow:global_step/sec: 701.018\n",
      "INFO:tensorflow:loss = 0.82033783, step = 400 (0.143 sec)\n",
      "INFO:tensorflow:global_step/sec: 673.073\n",
      "INFO:tensorflow:loss = 0.8067568, step = 500 (0.150 sec)\n",
      "INFO:tensorflow:global_step/sec: 701.18\n",
      "INFO:tensorflow:loss = 0.76996976, step = 600 (0.143 sec)\n",
      "INFO:tensorflow:global_step/sec: 705.944\n",
      "INFO:tensorflow:loss = 0.7444453, step = 700 (0.141 sec)\n",
      "INFO:tensorflow:global_step/sec: 696.425\n",
      "INFO:tensorflow:loss = 0.73667604, step = 800 (0.144 sec)\n",
      "INFO:tensorflow:global_step/sec: 646.916\n",
      "INFO:tensorflow:loss = 0.72329247, step = 900 (0.156 sec)\n",
      "INFO:tensorflow:global_step/sec: 556.941\n",
      "INFO:tensorflow:loss = 0.73046315, step = 1000 (0.180 sec)\n",
      "INFO:tensorflow:global_step/sec: 573.059\n",
      "INFO:tensorflow:loss = 0.67990613, step = 1100 (0.174 sec)\n",
      "INFO:tensorflow:global_step/sec: 668.454\n",
      "INFO:tensorflow:loss = 0.66558266, step = 1200 (0.150 sec)\n",
      "INFO:tensorflow:global_step/sec: 582.828\n",
      "INFO:tensorflow:loss = 0.65787095, step = 1300 (0.173 sec)\n",
      "INFO:tensorflow:global_step/sec: 618.934\n",
      "INFO:tensorflow:loss = 0.63901055, step = 1400 (0.162 sec)\n",
      "INFO:tensorflow:global_step/sec: 691.673\n",
      "INFO:tensorflow:loss = 0.6453109, step = 1500 (0.145 sec)\n",
      "INFO:tensorflow:global_step/sec: 668.337\n",
      "INFO:tensorflow:loss = 0.6179223, step = 1600 (0.150 sec)\n",
      "INFO:tensorflow:global_step/sec: 550.997\n",
      "INFO:tensorflow:loss = 0.5902866, step = 1700 (0.182 sec)\n",
      "INFO:tensorflow:global_step/sec: 622.776\n",
      "INFO:tensorflow:loss = 0.6070328, step = 1800 (0.160 sec)\n",
      "INFO:tensorflow:global_step/sec: 691.496\n",
      "INFO:tensorflow:loss = 0.5820012, step = 1900 (0.146 sec)\n",
      "INFO:tensorflow:global_step/sec: 711.118\n",
      "INFO:tensorflow:loss = 0.61440927, step = 2000 (0.140 sec)\n",
      "INFO:tensorflow:global_step/sec: 731.711\n",
      "INFO:tensorflow:loss = 0.5795617, step = 2100 (0.137 sec)\n",
      "INFO:tensorflow:global_step/sec: 647.023\n",
      "INFO:tensorflow:loss = 0.59041554, step = 2200 (0.156 sec)\n",
      "INFO:tensorflow:global_step/sec: 638.644\n",
      "INFO:tensorflow:loss = 0.5723597, step = 2300 (0.157 sec)\n",
      "INFO:tensorflow:global_step/sec: 596.82\n",
      "INFO:tensorflow:loss = 0.5472959, step = 2400 (0.167 sec)\n",
      "INFO:tensorflow:global_step/sec: 553.973\n",
      "INFO:tensorflow:loss = 0.52491105, step = 2500 (0.182 sec)\n",
      "INFO:tensorflow:global_step/sec: 524.856\n",
      "INFO:tensorflow:loss = 0.54802394, step = 2600 (0.189 sec)\n",
      "INFO:tensorflow:global_step/sec: 607.819\n",
      "INFO:tensorflow:loss = 0.52029943, step = 2700 (0.165 sec)\n",
      "INFO:tensorflow:global_step/sec: 748.261\n",
      "INFO:tensorflow:loss = 0.5187597, step = 2800 (0.134 sec)\n",
      "INFO:tensorflow:global_step/sec: 726.578\n",
      "INFO:tensorflow:loss = 0.5225965, step = 2900 (0.138 sec)\n",
      "INFO:tensorflow:global_step/sec: 731.882\n",
      "INFO:tensorflow:loss = 0.5068541, step = 3000 (0.137 sec)\n",
      "INFO:tensorflow:global_step/sec: 659.646\n",
      "INFO:tensorflow:loss = 0.48692596, step = 3100 (0.153 sec)\n",
      "INFO:tensorflow:global_step/sec: 716.21\n",
      "INFO:tensorflow:loss = 0.48868832, step = 3200 (0.140 sec)\n",
      "INFO:tensorflow:global_step/sec: 642.627\n",
      "INFO:tensorflow:loss = 0.4797484, step = 3300 (0.155 sec)\n",
      "INFO:tensorflow:global_step/sec: 634.709\n",
      "INFO:tensorflow:loss = 0.46084267, step = 3400 (0.158 sec)\n",
      "INFO:tensorflow:global_step/sec: 659.653\n",
      "INFO:tensorflow:loss = 0.4502163, step = 3500 (0.152 sec)\n",
      "INFO:tensorflow:global_step/sec: 742.715\n",
      "INFO:tensorflow:loss = 0.45611048, step = 3600 (0.135 sec)\n",
      "INFO:tensorflow:global_step/sec: 731.891\n",
      "INFO:tensorflow:loss = 0.46568647, step = 3700 (0.138 sec)\n",
      "INFO:tensorflow:global_step/sec: 659.651\n",
      "INFO:tensorflow:loss = 0.43981576, step = 3800 (0.151 sec)\n",
      "INFO:tensorflow:global_step/sec: 726.573\n",
      "INFO:tensorflow:loss = 0.43340126, step = 3900 (0.139 sec)\n",
      "INFO:tensorflow:global_step/sec: 731.883\n",
      "INFO:tensorflow:loss = 0.4161418, step = 4000 (0.137 sec)\n",
      "INFO:tensorflow:global_step/sec: 638.642\n",
      "INFO:tensorflow:loss = 0.42984617, step = 4100 (0.157 sec)\n",
      "INFO:tensorflow:global_step/sec: 600.409\n",
      "INFO:tensorflow:loss = 0.40477386, step = 4200 (0.167 sec)\n",
      "INFO:tensorflow:global_step/sec: 600.249\n",
      "INFO:tensorflow:loss = 0.40230805, step = 4300 (0.166 sec)\n",
      "INFO:tensorflow:global_step/sec: 716.41\n",
      "INFO:tensorflow:loss = 0.39120978, step = 4400 (0.140 sec)\n",
      "INFO:tensorflow:global_step/sec: 659.655\n",
      "INFO:tensorflow:loss = 0.38715303, step = 4500 (0.153 sec)\n",
      "INFO:tensorflow:global_step/sec: 731.883\n",
      "INFO:tensorflow:loss = 0.37828967, step = 4600 (0.136 sec)\n",
      "INFO:tensorflow:global_step/sec: 731.878\n",
      "INFO:tensorflow:loss = 0.37397715, step = 4700 (0.137 sec)\n",
      "INFO:tensorflow:global_step/sec: 753.739\n",
      "INFO:tensorflow:loss = 0.37340695, step = 4800 (0.133 sec)\n",
      "INFO:tensorflow:global_step/sec: 731.815\n",
      "INFO:tensorflow:loss = 0.36241254, step = 4900 (0.137 sec)\n",
      "INFO:tensorflow:Calling checkpoint listeners before saving checkpoint 5000...\n",
      "INFO:tensorflow:Saving checkpoints for 5000 into C:\\Users\\personal\\AppData\\Local\\Temp\\tmpdyrrx1vi\\model.ckpt.\n",
      "INFO:tensorflow:Calling checkpoint listeners after saving checkpoint 5000...\n",
      "INFO:tensorflow:Loss for final step: 0.36352634.\n"
     ]
    },
    {
     "data": {
      "text/plain": [
       "<tensorflow_estimator.python.estimator.canned.dnn.DNNClassifierV2 at 0x18a28104c18>"
      ]
     },
     "execution_count": 12,
     "metadata": {},
     "output_type": "execute_result"
    }
   ],
   "source": [
    "classifier.train(input_fn=lambda : input_function(train,train_y,training=True),\n",
    "                steps=5000)"
   ]
  },
  {
   "cell_type": "code",
   "execution_count": 13,
   "metadata": {},
   "outputs": [
    {
     "name": "stdout",
     "output_type": "stream",
     "text": [
      "INFO:tensorflow:Calling model_fn.\n",
      "WARNING:tensorflow:Layer dnn is casting an input tensor from dtype float64 to the layer's dtype of float32, which is new behavior in TensorFlow 2.  The layer has dtype float32 because its dtype defaults to floatx.\n",
      "\n",
      "If you intended to run this layer in float32, you can safely ignore this warning. If in doubt, this warning is likely only an issue if you are porting a TensorFlow 1.X model to TensorFlow 2.\n",
      "\n",
      "To change all layers to have dtype float64 by default, call `tf.keras.backend.set_floatx('float64')`. To change just this layer, pass dtype='float64' to the layer constructor. If you are the author of this layer, you can disable autocasting by passing autocast=False to the base Layer constructor.\n",
      "\n",
      "INFO:tensorflow:Done calling model_fn.\n",
      "INFO:tensorflow:Starting evaluation at 2020-12-02T09:56:33Z\n",
      "INFO:tensorflow:Graph was finalized.\n",
      "INFO:tensorflow:Restoring parameters from C:\\Users\\personal\\AppData\\Local\\Temp\\tmpdyrrx1vi\\model.ckpt-5000\n",
      "INFO:tensorflow:Running local_init_op.\n",
      "INFO:tensorflow:Done running local_init_op.\n",
      "INFO:tensorflow:Inference Time : 0.20642s\n",
      "INFO:tensorflow:Finished evaluation at 2020-12-02-09:56:33\n",
      "INFO:tensorflow:Saving dict for global step 5000: accuracy = 0.9, average_loss = 0.42446423, global_step = 5000, loss = 0.42446423\n",
      "INFO:tensorflow:Saving 'checkpoint_path' summary for global step 5000: C:\\Users\\personal\\AppData\\Local\\Temp\\tmpdyrrx1vi\\model.ckpt-5000\n"
     ]
    }
   ],
   "source": [
    "evaluation_result=classifier.evaluate(input_fn=lambda : input_function(test,test_y,training=False))"
   ]
  },
  {
   "cell_type": "code",
   "execution_count": 14,
   "metadata": {},
   "outputs": [
    {
     "name": "stdout",
     "output_type": "stream",
     "text": [
      "\n",
      "Test set accuracy: 0.900\n",
      "\n"
     ]
    }
   ],
   "source": [
    "print('\\nTest set accuracy: {accuracy:0.3f}\\n'.format(**evaluation_result))"
   ]
  },
  {
   "cell_type": "code",
   "execution_count": 15,
   "metadata": {},
   "outputs": [],
   "source": [
    "expected = ['Setosa', 'Versicolor', 'Virginica']\n",
    "predict_x = {\n",
    "    'SepalLength': [5.1, 5.9, 6.9],\n",
    "    'SepalWidth': [3.3, 3.0, 3.1],\n",
    "    'PetalLength': [1.7, 4.2, 5.4],\n",
    "    'PetalWidth': [0.5, 1.5, 2.1],\n",
    "}"
   ]
  },
  {
   "cell_type": "code",
   "execution_count": 16,
   "metadata": {},
   "outputs": [],
   "source": [
    "def input_function(features,batch_size=256):\n",
    "    return tf.data.Dataset.from_tensor_slices(dict(features)).batch(batch_size)"
   ]
  },
  {
   "cell_type": "code",
   "execution_count": 17,
   "metadata": {},
   "outputs": [],
   "source": [
    "predictions=classifier.predict(input_fn= lambda: input_function(predict_x))"
   ]
  },
  {
   "cell_type": "code",
   "execution_count": 18,
   "metadata": {},
   "outputs": [
    {
     "name": "stdout",
     "output_type": "stream",
     "text": [
      "INFO:tensorflow:Calling model_fn.\n",
      "INFO:tensorflow:Done calling model_fn.\n",
      "INFO:tensorflow:Graph was finalized.\n",
      "INFO:tensorflow:Restoring parameters from C:\\Users\\personal\\AppData\\Local\\Temp\\tmpdyrrx1vi\\model.ckpt-5000\n",
      "INFO:tensorflow:Running local_init_op.\n",
      "INFO:tensorflow:Done running local_init_op.\n",
      "prediction is Setosa (98.2302%) expected Setosa\n",
      "prediction is Versicolor (54.1287%) expected Versicolor\n",
      "prediction is Virginica (59.6304%) expected Virginica\n"
     ]
    }
   ],
   "source": [
    "for pred_dict,expec in zip(predictions,expected):\n",
    "    class_id=pred_dict['class_ids'][0]\n",
    "    probability=pred_dict['probabilities'][class_id]\n",
    "    print(f\"prediction is {species[class_id]} ({round(100*probability,4)}%) expected {expec}\")"
   ]
  },
  {
   "cell_type": "code",
   "execution_count": null,
   "metadata": {},
   "outputs": [],
   "source": []
  }
 ],
 "metadata": {
  "kernelspec": {
   "display_name": "Python 3",
   "language": "python",
   "name": "python3"
  },
  "language_info": {
   "codemirror_mode": {
    "name": "ipython",
    "version": 3
   },
   "file_extension": ".py",
   "mimetype": "text/x-python",
   "name": "python",
   "nbconvert_exporter": "python",
   "pygments_lexer": "ipython3",
   "version": "3.7.3"
  }
 },
 "nbformat": 4,
 "nbformat_minor": 2
}
