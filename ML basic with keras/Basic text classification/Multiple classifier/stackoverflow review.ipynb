{
 "cells": [
  {
   "cell_type": "code",
   "execution_count": 5,
   "metadata": {},
   "outputs": [],
   "source": [
    "import matplotlib.pyplot as pt\n",
    "from matplotlib import style\n",
    "style.use('fivethirtyeight')\n",
    "import numpy as np \n",
    "import pandas as pd\n",
    "import os\n",
    "import re\n",
    "import shutil\n",
    "import string"
   ]
  },
  {
   "cell_type": "code",
   "execution_count": 123,
   "metadata": {},
   "outputs": [],
   "source": [
    "import tensorflow as tf\n",
    "from tensorflow.keras import layers\n",
    "from tensorflow.keras import losses\n",
    "from tensorflow.keras import preprocessing\n",
    "from tensorflow.keras.layers.experimental.preprocessing import TextVectorization\n",
    "from tensorflow.keras.callbacks import EarlyStopping"
   ]
  },
  {
   "cell_type": "code",
   "execution_count": 7,
   "metadata": {},
   "outputs": [],
   "source": [
    "dataset_dir=\"C:\\\\Users\\\\personal\\\\Desktop\\\\Tensorflow\\\\ML basic with keras\\\\Basic text classification\\\\Multiple classifier\\\\Stackoverflow\""
   ]
  },
  {
   "cell_type": "code",
   "execution_count": 8,
   "metadata": {},
   "outputs": [
    {
     "data": {
      "text/plain": [
       "['test', 'train']"
      ]
     },
     "execution_count": 8,
     "metadata": {},
     "output_type": "execute_result"
    }
   ],
   "source": [
    "os.listdir(dataset_dir)"
   ]
  },
  {
   "cell_type": "code",
   "execution_count": 11,
   "metadata": {},
   "outputs": [
    {
     "data": {
      "text/plain": [
       "['csharp', 'java', 'javascript', 'python']"
      ]
     },
     "execution_count": 11,
     "metadata": {},
     "output_type": "execute_result"
    }
   ],
   "source": [
    "train_dir=os.path.join(dataset_dir,'train')\n",
    "train_dir_python=os.path.join(train_dir,'python')\n",
    "train_dir_java=os.path.join(train_dir,'java')\n",
    "train_dir_javascript=os.path.join(train_dir,'javascript')\n",
    "train_dir_csharp=os.path.join(train_dir,'csharp')\n",
    "os.listdir(train_dir)"
   ]
  },
  {
   "cell_type": "code",
   "execution_count": 12,
   "metadata": {},
   "outputs": [],
   "source": [
    "def samples(path,filename):\n",
    "    sample_file=os.path.join(path,filename)\n",
    "    with open(sample_file) as file:\n",
    "        print(file.read())"
   ]
  },
  {
   "cell_type": "code",
   "execution_count": 18,
   "metadata": {},
   "outputs": [
    {
     "name": "stdout",
     "output_type": "stream",
     "text": [
      "\"are there objects that cannot be coerced into a string in blank? in blank, can any object be coerced into a string unless its __str__ method is overloaded to raise an exception?\"\n",
      "\n"
     ]
    }
   ],
   "source": [
    "filename=os.listdir(train_dir_python)[150]\n",
    "samples(train_dir_python,filename)"
   ]
  },
  {
   "cell_type": "code",
   "execution_count": 19,
   "metadata": {},
   "outputs": [
    {
     "name": "stdout",
     "output_type": "stream",
     "text": [
      "\"getting exception in thread \"\"main\"\" blank.lang.error: unresolved compilation: at filetest.main(filetest.blank:39) im getting exception in thread \"\"main\"\" blank.lang.error: unresolved compilation: at filetest.main(filetest.blank:39) line 39 is public static void main(string[] args){what am i doing wrong?..public class filetest{.    public static void main(string[] args){..        try{.            string infilename = args[0];.            string outfilename = args[1];.            bufferedreader ins= new bufferedreader(new filereader(infilename));.            bufferedreader con = new bufferedreader(new inputstreamreader(system.in));.            printwriter outs = new printwriter(new filewriter(outfilename));..            string first = ins.readline(); //read from file.            while(first != null){.                system.out.print(\"\"type in a word to follow \"\" + first + \"\":\"\");.                string second = con.readline(); //read from console.                //append and write .                outs.println(first+ \"\", \"\" + second);.                first = ins.readline(); //read from file.            }.            ins.close();.            outs.close();.        }.        catch (ioexception ex){.            ex.printstacktrace(system.err);.            system.exit(1);.            }..        }.    }.}\"\n",
      "\n"
     ]
    }
   ],
   "source": [
    "filename=os.listdir(train_dir_java)[150]\n",
    "samples(train_dir_java,filename)"
   ]
  },
  {
   "cell_type": "code",
   "execution_count": 20,
   "metadata": {},
   "outputs": [
    {
     "name": "stdout",
     "output_type": "stream",
     "text": [
      "\"alf.nu random4 excercise, what is the answer? i was playing on this site, and i got stuck at the random4 problem...so, basically, the problem is the following...var random4 = new function() {.  var rand = math.random();..  this.test = function(x) {.    return rand === x;.  }.};...what value of x should be passed to random4.test in order to have it return true?..note that the code here is slightly different from the linked page. this is because we do not have access to the rand variable and i want to make this explicitly clear.\"\n",
      "\n"
     ]
    }
   ],
   "source": [
    "filename=os.listdir(train_dir_javascript)[150]\n",
    "samples(train_dir_javascript,filename)"
   ]
  },
  {
   "cell_type": "code",
   "execution_count": 21,
   "metadata": {},
   "outputs": [
    {
     "name": "stdout",
     "output_type": "stream",
     "text": [
      "\"convenient way for conditional logging logging is taking resources. especially to create log messages..to save runtime resources i do this:..if (logfile!=null) log(logfile, \"\"some message \"\"+somemethod());...it eliminates calling somemethod when logging is not required...is there more convenient way to code it? like..logger.logger?.log(\"\"some message \"\"+somemethod());...logger is static class and logger is delegate... unfortunately it doesn't work in my vs2012...update: main purpose of this question is how to simplify code look and feel and reduce runtime spending. in my original approach method somemethod() is not called if logging is not necessary, but code stays the same. checking for null is only suggested approach to avoid calling extra methods...update2: some example:..    public class example {      .        public class logger .            {.                public static void log(string message).                {.                    console.writeline(message);.                }.            }..            public static logger logger;..            public static void test().            {.                // has compilation error \"\"invalid expression term '.'.                logger?.log(\"\"this \"\"+\"\"should \"\"+\"\"be \"\"+\"\"not invoked\"\"); .                logger = new logger();.                logger?.log(\"\"this should \"\"+\"\"be logged\"\");.            }.}\"\n",
      "\n"
     ]
    }
   ],
   "source": [
    "filename=os.listdir(train_dir_csharp)[150]\n",
    "samples(train_dir_csharp,filename)"
   ]
  },
  {
   "cell_type": "code",
   "execution_count": 99,
   "metadata": {},
   "outputs": [
    {
     "name": "stdout",
     "output_type": "stream",
     "text": [
      "Found 8000 files belonging to 4 classes.\n",
      "Using 6400 files for training.\n"
     ]
    }
   ],
   "source": [
    "batch_size=32\n",
    "seed=42\n",
    "raw_training_dataset=tf.keras.preprocessing.text_dataset_from_directory('Stackoverflow/train',\n",
    "                                                                       batch_size=batch_size,\n",
    "                                                                       validation_split=0.2,\n",
    "                                                                       subset='training',\n",
    "                                                                       seed=seed)"
   ]
  },
  {
   "cell_type": "code",
   "execution_count": 100,
   "metadata": {},
   "outputs": [
    {
     "name": "stdout",
     "output_type": "stream",
     "text": [
      "label is 1\n",
      "review is b'\"my tester is going to the wrong constructor i am new to programming so if i ask a question that can be easily fixed, please forgive me. my program has a tester class with a main. when i send that to my regularpolygon class, it sends it to the wrong constructor. i have two constructors. 1 without perameters..public regularpolygon().    {.       mynumsides = 5;.       mysidelength = 30;.    }//end default constructor...and my second, with perameters. ..public regularpolygon(int numsides, double sidelength).    {.        mynumsides = numsides;.        mysidelength = sidelength;.    }// end constructor...in my tester class i have these two lines:..regularpolygon shape = new regularpolygon(numsides, sidelength);.        shape.menu();...numsides and sidelength were declared and initialized earlier in the testing class...so what i want to happen, is the tester class sends numsides and sidelength to the second constructor and use it in that class. but it only uses the default constructor, which therefor ruins the whole rest of the program. can somebody help me?..for those of you who want to see more of my code: here you go..public double vertexangle().    {.        system.out.println(\"\"the vertex angle method: \"\" + mynumsides);// prints out 5.        system.out.println(\"\"the vertex angle method: \"\" + mysidelength); // prints out 30..        double vertexangle;.        vertexangle = ((mynumsides - 2.0) / mynumsides) * 180.0;.        return vertexangle;.    }//end method vertexangle..public void menu().{.    system.out.println(mynumsides); // prints out what the user puts in.    system.out.println(mysidelength); // prints out what the user puts in.    gotographic();.    calcr(mynumsides, mysidelength);.    calcr(mynumsides, mysidelength);.    print(); .}// end menu...this is my entire tester class:..public static void main(string[] arg).{.    int numsides;.    double sidelength;.    scanner keyboard = new scanner(system.in);..    system.out.println(\"\"welcome to the regular polygon program!\"\");.    system.out.println();..    system.out.print(\"\"enter the number of sides of the polygon ==&gt; \"\");.    numsides = keyboard.nextint();.    system.out.println();..    system.out.print(\"\"enter the side length of each side ==&gt; \"\");.    sidelength = keyboard.nextdouble();.    system.out.println();..    regularpolygon shape = new regularpolygon(numsides, sidelength);.    shape.menu();.}//end main...for testing it i sent it numsides 4 and sidelength 100.\"\\n'\n",
      "=================================>\n",
      "label is 3\n",
      "review is b'\"blank code slow skin detection this code changes the color space to lab and using a threshold finds the skin area of an image. but it\\'s ridiculously slow. i don\\'t know how to make it faster ?    ..from colormath.color_objects import *..def skindetection(img, treshold=80, color=[255,20,147]):..    print img.shape.    res=img.copy().    for x in range(img.shape[0]):.        for y in range(img.shape[1]):.            rgbimg=rgbcolor(img[x,y,0],img[x,y,1],img[x,y,2]).            labimg=rgbimg.convert_to(\\'lab\\', debug=false).            if (labimg.lab_l &gt; treshold):.                res[x,y,:]=color.            else: .                res[x,y,:]=img[x,y,:]..    return res\"\\n'\n",
      "=================================>\n",
      "label is 1\n",
      "review is b'\"option and validation in blank i want to add a new option on my system where i want to add two text files, both rental.txt and customer.txt. inside each text are id numbers of the customer, the videotape they need and the price...i want to place it as an option on my code. right now i have:...add customer.rent return.view list.search.exit...i want to add this as my sixth option. say for example i ordered a video, it would display the price and would let me confirm the price and if i am going to buy it or not...here is my current code:..  import blank.io.*;.    import blank.util.arraylist;.    import static blank.lang.system.out;..    public class rentalsystem{.    static bufferedreader input = new bufferedreader(new inputstreamreader(system.in));.    static file file = new file(\"\"file.txt\"\");.    static arraylist&lt;string&gt; list = new arraylist&lt;string&gt;();.    static int rows;..    public static void main(string[] args) throws exception{.        introduction();.        system.out.print(\"\"nn\"\");.        login();.        system.out.print(\"\"nnnnnnnnnnnnnnnnnnnnnn\"\");.        introduction();.        string repeat;.        do{.            loadfile();.            system.out.print(\"\"nwhat do you want to do?nn\"\");.            system.out.print(\"\"n                    - - - - - - - - - - - - - - - - - - - - - - -\"\");.            system.out.print(\"\"nn                    |     1. add customer    |   2. rent return |n\"\");.            system.out.print(\"\"n                    - - - - - - - - - - - - - - - - - - - - - - -\"\");.            system.out.print(\"\"nn                    |     3. view list       |   4. search      |n\"\");.            system.out.print(\"\"n                    - - - - - - - - - - - - - - - - - - - - - - -\"\");.            system.out.print(\"\"nn                                             |   5. exit        |n\"\");.            system.out.print(\"\"n                                              - - - - - - - - - -\"\");.            system.out.print(\"\"nnchoice:\"\");.            int choice = integer.parseint(input.readline());.            switch(choice){.                case 1:.                    writedata();.                    break;.                case 2:.                    rentdata();.                    break;.                case 3:.                    viewlist();.                    break;.                case 4:.                    search();.                    break;.                case 5:.                    system.out.println(\"\"goodbye!\"\");.                    system.exit(0);.                default:.                    system.out.print(\"\"invalid choice: \"\");.                    break;.            }.            system.out.print(\"\"ndo another task? [y/n] \"\");.            repeat = input.readline();.        }while(repeat.equals(\"\"y\"\"));..        if(repeat!=\"\"y\"\") system.out.println(\"\"ngoodbye!\"\");..    }..    public static void writedata() throws exception{.        system.out.print(\"\"nname: \"\");.        string cname = input.readline();.        system.out.print(\"\"address: \"\");.        string add = input.readline();.        system.out.print(\"\"phone no.: \"\");.        string pno = input.readline();.        system.out.print(\"\"rental amount: \"\");.        string ramount = input.readline();.        system.out.print(\"\"tapenumber: \"\");.        string tno = input.readline();.        system.out.print(\"\"title: \"\");.        string title = input.readline();.        system.out.print(\"\"date borrowed: \"\");.        string dborrowed = input.readline();.        system.out.print(\"\"due date: \"\");.        string ddate = input.readline();.        createline(cname, add, pno, ramount,tno, title, dborrowed, ddate);.        rentdata();.    }..    public static void createline(string name, string address, string phone , string rental, string tapenumber, string title, string borrowed, string due) throws exception{.        filewriter fw = new filewriter(file, true);.        fw.write(\"\"nname: \"\"+name + \"\"naddress: \"\" + address +\"\"nphone no.: \"\"+ phone+\"\"nrentalamount: \"\"+rental+\"\"ntape no.: \"\"+ tapenumber+\"\"ntitle: \"\"+ title+\"\"ndate borrowed: \"\"+borrowed +\"\"ndue date: \"\"+ due+\"\":rn\"\");.        fw.close();.    }..    public static void loadfile() throws exception{.        try{.            list.clear();.            fileinputstream fstream = new fileinputstream(file);.            bufferedreader br = new bufferedreader(new inputstreamreader(fstream));.            rows = 0;.            while( br.ready()).            {.                list.add(br.readline());.                rows++;.            }.            br.close();.        } catch(exception e){.            system.out.println(\"\"list not yet loaded.\"\");.        }.    }..    public static void viewlist(){.        system.out.print(\"\"n~ ~ ~ ~ ~ ~ ~ ~ ~ ~ ~\"\");.        system.out.print(\"\" |list of all costumers|\"\");.        system.out.print(\"\"~ ~ ~ ~ ~ ~ ~ ~ ~ ~ ~\"\");.        for(int i = 0; i &lt;rows; i++){.            system.out.println(list.get(i));.        }.    }.        public static void rentdata()throws exception.    {   system.out.print(\"\"n~ ~ ~ ~ ~ ~ ~ ~ ~ ~ ~\"\");.        system.out.print(\"\" |rent data list|\"\");.        system.out.print(\"\"~ ~ ~ ~ ~ ~ ~ ~ ~ ~ ~\"\");.        system.out.print(\"\"nenter customer name: \"\");.        string cname = input.readline();.        system.out.print(\"\"date borrowed: \"\");.        string dborrowed = input.readline();.        system.out.print(\"\"due date: \"\");.        string ddate = input.readline();.        system.out.print(\"\"return date: \"\");.        string rdate = input.readline();.        system.out.print(\"\"rent amount: \"\");.        string ramount = input.readline();..        system.out.print(\"\"you pay:\"\"+ramount);...    }.    public static void search()throws exception.    {   system.out.print(\"\"n~ ~ ~ ~ ~ ~ ~ ~ ~ ~ ~\"\");.        system.out.print(\"\" |search costumers|\"\");.        system.out.print(\"\"~ ~ ~ ~ ~ ~ ~ ~ ~ ~ ~\"\");.        system.out.print(\"\"nenter costumer name: \"\");.        string cname = input.readline();.        boolean found = false;..        for(int i=0; i &lt; rows; i++){.            string temp[] = list.get(i).split(\"\",\"\");..            if(cname.equals(temp[0])){.            system.out.println(\"\"search result:nyou are \"\" + temp[0] + \"\" from \"\" + temp[1] + \"\".\"\"+ temp[2] + \"\".\"\"+ temp[3] + \"\".\"\"+ temp[4] + \"\".\"\"+ temp[5] + \"\" is \"\" + temp[6] + \"\".\"\"+ temp[7] + \"\" is \"\" + temp[8] + \"\".\"\");.                found = true;.            }.        }..        if(!found){.            system.out.print(\"\"no results.\"\");.        }..    }..        public static boolean evaluate(string uname, string pass){.        if (uname.equals(\"\"admin\"\")&amp;&amp;pass.equals(\"\"12345\"\")) return true;.        else return false;.    }..    public static string login()throws exception{.        bufferedreader input=new bufferedreader(new inputstreamreader(system.in));.        int counter=0;.        do{.            system.out.print(\"\"username:\"\");.            string uname =input.readline();.            system.out.print(\"\"password:\"\");.            string pass =input.readline();..            boolean accept= evaluate(uname,pass);..            if(accept){.                break;.                }else{.                    system.out.println(\"\"incorrect username or password!\"\");.                    counter ++;.                    }.        }while(counter&lt;3);..            if(counter !=3) return \"\"login successful\"\";.            else return \"\"login failed\"\";.            }.        public static void introduction() throws exception{..        system.out.println(\"\"                  - - - - - - - - - - - - - - - - - - - - - - - - -\"\");.        system.out.println(\"\"                  !                  r e n t a l                  !\"\");.        system.out.println(\"\"                   ! ~ ~ ~ ~ ~ !  =================  ! ~ ~ ~ ~ ~ !\"\");.        system.out.println(\"\"                  !                  s y s t e m                  !\"\");.        system.out.println(\"\"                  - - - - - - - - - - - - - - - - - - - - - - - - -\"\");.        }..}\"\\n'\n",
      "=================================>\n",
      "label is 0\n",
      "review is b'\"exception: dynamic sql generation for the updatecommand is not supported against a selectcommand that does not return any key i dont know what is the problem this my code : ..string nomtable;..datatable listeetablissementtable = new datatable();.datatable listeinteretstable = new datatable();.dataset ds = new dataset();.sqldataadapter da;.sqlcommandbuilder cmdb;..private void listeinterets_click(object sender, eventargs e).{.    nomtable = \"\"listeinteretstable\"\";.    d.cnx.open();.    da = new sqldataadapter(\"\"select nome from offices\"\", d.cnx);.    ds = new dataset();.    da.fill(ds, nomtable);.    datagridview1.datasource = ds.tables[nomtable];.}..private void sauvgarder_click(object sender, eventargs e).{.    d.cnx.open();.    cmdb = new sqlcommandbuilder(da);.    da.update(ds, nomtable);.    d.cnx.close();.}\"\\n'\n",
      "=================================>\n",
      "label is 1\n",
      "review is b'\"parameter with question mark and super in blank, i\\'ve come across a method that is formatted like this:..public final subscription subscribe(final action1&lt;? super t&gt; onnext, final action1&lt;throwable&gt; onerror) {.}...in the first parameter, what does the question mark and super mean?\"\\n'\n",
      "=================================>\n"
     ]
    }
   ],
   "source": [
    "for text_batch,label_batch in raw_training_dataset.take(1):\n",
    "    for i in range(5):\n",
    "        print(f\"label is {label_batch.numpy()[i]}\")\n",
    "        print(f\"review is {text_batch.numpy()[i]}\")\n",
    "        print(\"=================================>\")"
   ]
  },
  {
   "cell_type": "code",
   "execution_count": 101,
   "metadata": {},
   "outputs": [
    {
     "name": "stdout",
     "output_type": "stream",
     "text": [
      "Label 0 corresponds to  csharp\n",
      "Label 1 corresponds to  java\n",
      "Label 2 corresponds to  javascript\n",
      "Label 3 corresponds to  python\n"
     ]
    }
   ],
   "source": [
    "print(\"Label 0 corresponds to \",raw_training_dataset.class_names[0])\n",
    "print(\"Label 1 corresponds to \",raw_training_dataset.class_names[1])\n",
    "print(\"Label 2 corresponds to \",raw_training_dataset.class_names[2])\n",
    "print(\"Label 3 corresponds to \",raw_training_dataset.class_names[3])"
   ]
  },
  {
   "cell_type": "code",
   "execution_count": 102,
   "metadata": {},
   "outputs": [
    {
     "name": "stdout",
     "output_type": "stream",
     "text": [
      "Found 8000 files belonging to 4 classes.\n",
      "Using 1600 files for validation.\n"
     ]
    }
   ],
   "source": [
    "raw_validation_dataset=tf.keras.preprocessing.text_dataset_from_directory('Stackoverflow/train',\n",
    "                                                                       batch_size=batch_size,\n",
    "                                                                       validation_split=0.2,\n",
    "                                                                       subset='validation',\n",
    "                                                                       seed=seed)"
   ]
  },
  {
   "cell_type": "code",
   "execution_count": 103,
   "metadata": {},
   "outputs": [
    {
     "name": "stdout",
     "output_type": "stream",
     "text": [
      "Found 8000 files belonging to 4 classes.\n"
     ]
    }
   ],
   "source": [
    "raw_test_dataset=tf.keras.preprocessing.text_dataset_from_directory('Stackoverflow/test',\n",
    "                                                                       batch_size=batch_size)"
   ]
  },
  {
   "cell_type": "markdown",
   "metadata": {},
   "source": [
    "Prepare the dataset for training\n",
    "Next, you will standardize, tokenize, and vectorize the data using the helpful preprocessing.TextVectorization layer.\n",
    "\n",
    "Standardization refers to preprocessing the text, typically to remove punctuation or HTML elements to simplify the dataset. Tokenization refers to splitting strings into tokens (for example, splitting a sentence into individual words, by splitting on whitespace). Vectorization refers to converting tokens into numbers so they can be fed into a neural network. All of these tasks can be accomplished with this layer.\n",
    "\n",
    "As you saw above, the reviews contain various HTML tags like <br />. These tags will not be removed by the default standardizer in the TextVectorization layer (which converts text to lowecase and strips punctuation by default, but doesn't strip HTML). You will write a custom standardization function to remove the HTML."
   ]
  },
  {
   "cell_type": "code",
   "execution_count": 104,
   "metadata": {},
   "outputs": [],
   "source": [
    "def custom_standardization(input_data):\n",
    "    lowercase=tf.strings.lower(input_data)\n",
    "    stripped_html=tf.strings.regex_replace(lowercase,'<br />',' ')\n",
    "    return tf.strings.regex_replace(stripped_html,\n",
    "                                   '[%s]' % re.escape(string.punctuation),\n",
    "                                   '')"
   ]
  },
  {
   "cell_type": "code",
   "execution_count": 105,
   "metadata": {},
   "outputs": [],
   "source": [
    "max_features=10000\n",
    "sequence_length=250\n",
    "\n",
    "vectorize_layer=TextVectorization(standardize=custom_standardization,\n",
    "                                 max_tokens=max_features,\n",
    "                                 output_mode='int',\n",
    "                                 output_sequence_length=sequence_length)"
   ]
  },
  {
   "cell_type": "code",
   "execution_count": 106,
   "metadata": {},
   "outputs": [],
   "source": [
    "train_text=raw_training_dataset.map(lambda x,y:x)\n",
    "vectorize_layer.adapt(train_text)"
   ]
  },
  {
   "cell_type": "code",
   "execution_count": 107,
   "metadata": {},
   "outputs": [],
   "source": [
    "def vectorize_text(text,label):\n",
    "    text=tf.expand_dims(text,-1)\n",
    "    return vectorize_layer(text),label"
   ]
  },
  {
   "cell_type": "code",
   "execution_count": 108,
   "metadata": {},
   "outputs": [
    {
     "name": "stdout",
     "output_type": "stream",
     "text": [
      "Review tf.Tensor(b'\"unit testing of setters and getters teacher wanted us to do a comprehensive unit test. for me, this will be the first time that i use junit. i am confused about testing set and get methods. do you think should i test them? if the answer is yes; is this code enough for testing?..  public void testsetandget(){.    int a = 10;.    class firstclass = new class();.    firstclass.setvalue(10);.    int value = firstclass.getvalue();.    assert.asserttrue(\"\"error\"\", value==a);.  }...in my code, i think if there is an error, we can\\'t know that the error is deriving because of setter or getter.\"\\n', shape=(), dtype=string)\n",
      "Label java\n",
      "vectorize review\n",
      "(<tf.Tensor: shape=(1, 250), dtype=int64, numpy=\n",
      "array([[1011,  773,    9, 2456,    8, 1863, 2362,  690, 1267,    4,   40,\n",
      "           5,    1, 1011,  196,   12,   74,   13,   72,   33,    2,   98,\n",
      "         105,   14,    3,   70, 9611,    3,   34,  888,  202,  773,  107,\n",
      "           8,   41,  242,   40,   58,  291,   90,    3,  196,  191,   10,\n",
      "           2,  182,    6,  668,    6,   13,   30, 1187,   12,  773,   22,\n",
      "          42,    1,   28,    5,  140,   29, 5213,   15,   29,    1,   28,\n",
      "          51,    1,    1,    1,    7,   23,   30,    3,  291,   10,   67,\n",
      "           6,   32,   65,  185,  166,  102,   14,    2,   65,    6,    1,\n",
      "         193,    9, 2784,   45, 2410,    0,    0,    0,    0,    0,    0,\n",
      "           0,    0,    0,    0,    0,    0,    0,    0,    0,    0,    0,\n",
      "           0,    0,    0,    0,    0,    0,    0,    0,    0,    0,    0,\n",
      "           0,    0,    0,    0,    0,    0,    0,    0,    0,    0,    0,\n",
      "           0,    0,    0,    0,    0,    0,    0,    0,    0,    0,    0,\n",
      "           0,    0,    0,    0,    0,    0,    0,    0,    0,    0,    0,\n",
      "           0,    0,    0,    0,    0,    0,    0,    0,    0,    0,    0,\n",
      "           0,    0,    0,    0,    0,    0,    0,    0,    0,    0,    0,\n",
      "           0,    0,    0,    0,    0,    0,    0,    0,    0,    0,    0,\n",
      "           0,    0,    0,    0,    0,    0,    0,    0,    0,    0,    0,\n",
      "           0,    0,    0,    0,    0,    0,    0,    0,    0,    0,    0,\n",
      "           0,    0,    0,    0,    0,    0,    0,    0,    0,    0,    0,\n",
      "           0,    0,    0,    0,    0,    0,    0,    0,    0,    0,    0,\n",
      "           0,    0,    0,    0,    0,    0,    0,    0,    0,    0,    0,\n",
      "           0,    0,    0,    0,    0,    0,    0,    0]], dtype=int64)>, <tf.Tensor: shape=(), dtype=int32, numpy=1>)\n"
     ]
    }
   ],
   "source": [
    "text_batch,label_batch=next(iter(raw_training_dataset))\n",
    "first_review,first_label=text_batch[0],label_batch[0]\n",
    "print(\"Review\",first_review)\n",
    "print(\"Label\",raw_training_dataset.class_names[first_label])\n",
    "print(\"vectorize review\")\n",
    "print(vectorize_text(first_review,first_label))"
   ]
  },
  {
   "cell_type": "code",
   "execution_count": 109,
   "metadata": {},
   "outputs": [
    {
     "name": "stdout",
     "output_type": "stream",
     "text": [
      "10----> if\n",
      "100----> into\n",
      "1000----> systemoutprintlnplease\n",
      "Vocabular size --> 10000\n"
     ]
    }
   ],
   "source": [
    "print(\"10---->\",vectorize_layer.get_vocabulary()[10])\n",
    "print(\"100---->\",vectorize_layer.get_vocabulary()[100])\n",
    "print(\"1000---->\",vectorize_layer.get_vocabulary()[1000])\n",
    "print(\"Vocabular size -->\",len(vectorize_layer.get_vocabulary()))"
   ]
  },
  {
   "cell_type": "code",
   "execution_count": 110,
   "metadata": {},
   "outputs": [],
   "source": [
    "train_dataset=raw_training_dataset.map(vectorize_text)\n",
    "test_dataset=raw_test_dataset.map(vectorize_text)\n",
    "valisation_dataset=raw_validation_dataset.map(vectorize_text)"
   ]
  },
  {
   "cell_type": "markdown",
   "metadata": {},
   "source": [
    "Configure the dataset for performance\n",
    "These are two important methods you should use when loading data to make sure that I/O does not become blocking.\n",
    "\n",
    ".cache() keeps data in memory after it's loaded off disk. This will ensure the dataset does not become a bottleneck while training your model. If your dataset is too large to fit into memory, you can also use this method to create a performant on-disk cache, which is more efficient to read than many small files.\n",
    "\n",
    ".prefetch() overlaps data preprocessing and model execution while training."
   ]
  },
  {
   "cell_type": "code",
   "execution_count": 111,
   "metadata": {},
   "outputs": [],
   "source": [
    "AUTOTUNE=tf.data.experimental.AUTOTUNE\n",
    "train_dataset=train_dataset.cache().prefetch(buffer_size=AUTOTUNE)\n",
    "test_dataset=test_dataset.cache().prefetch(buffer_size=AUTOTUNE)\n",
    "valisation_dataset=valisation_dataset.cache().prefetch(buffer_size=AUTOTUNE)"
   ]
  },
  {
   "cell_type": "code",
   "execution_count": 112,
   "metadata": {},
   "outputs": [],
   "source": [
    "embedding_dim = 16"
   ]
  },
  {
   "cell_type": "code",
   "execution_count": 125,
   "metadata": {},
   "outputs": [],
   "source": [
    "model=tf.keras.Sequential([\n",
    "    layers.Embedding(max_features+1,embedding_dim),\n",
    "    layers.Dropout(0.2),\n",
    "    layers.GlobalAveragePooling1D(),\n",
    "    layers.Dropout(0.2),\n",
    "    layers.Dense(4)\n",
    "])"
   ]
  },
  {
   "cell_type": "code",
   "execution_count": 126,
   "metadata": {},
   "outputs": [
    {
     "name": "stdout",
     "output_type": "stream",
     "text": [
      "Model: \"sequential_8\"\n",
      "_________________________________________________________________\n",
      "Layer (type)                 Output Shape              Param #   \n",
      "=================================================================\n",
      "embedding_6 (Embedding)      (None, None, 16)          160016    \n",
      "_________________________________________________________________\n",
      "dropout_12 (Dropout)         (None, None, 16)          0         \n",
      "_________________________________________________________________\n",
      "global_average_pooling1d_6 ( (None, 16)                0         \n",
      "_________________________________________________________________\n",
      "dropout_13 (Dropout)         (None, 16)                0         \n",
      "_________________________________________________________________\n",
      "dense_6 (Dense)              (None, 4)                 68        \n",
      "=================================================================\n",
      "Total params: 160,084\n",
      "Trainable params: 160,084\n",
      "Non-trainable params: 0\n",
      "_________________________________________________________________\n"
     ]
    }
   ],
   "source": [
    "model.summary()"
   ]
  },
  {
   "cell_type": "code",
   "execution_count": 127,
   "metadata": {},
   "outputs": [],
   "source": [
    "model.compile(loss=losses.SparseCategoricalCrossentropy(from_logits=True),\n",
    "              optimizer='adam',\n",
    "              metrics=['accuracy'])"
   ]
  },
  {
   "cell_type": "code",
   "execution_count": 128,
   "metadata": {},
   "outputs": [],
   "source": [
    "early_stopping=EarlyStopping(monitor=\"val_loss\",mode=\"min\",patience=10,verbose=1)"
   ]
  },
  {
   "cell_type": "code",
   "execution_count": 129,
   "metadata": {},
   "outputs": [
    {
     "name": "stdout",
     "output_type": "stream",
     "text": [
      "Epoch 1/100\n",
      "200/200 [==============================] - 1s 4ms/step - loss: 1.3787 - accuracy: 0.3583 - val_loss: 1.3678 - val_accuracy: 0.5206\n",
      "Epoch 2/100\n",
      "200/200 [==============================] - 1s 3ms/step - loss: 1.3502 - accuracy: 0.4722 - val_loss: 1.3298 - val_accuracy: 0.5331\n",
      "Epoch 3/100\n",
      "200/200 [==============================] - 1s 3ms/step - loss: 1.3010 - accuracy: 0.5475 - val_loss: 1.2717 - val_accuracy: 0.5850\n",
      "Epoch 4/100\n",
      "200/200 [==============================] - 1s 3ms/step - loss: 1.2327 - accuracy: 0.5967 - val_loss: 1.2023 - val_accuracy: 0.6288\n",
      "Epoch 5/100\n",
      "200/200 [==============================] - 1s 3ms/step - loss: 1.1589 - accuracy: 0.6323 - val_loss: 1.1302 - val_accuracy: 0.6562\n",
      "Epoch 6/100\n",
      "200/200 [==============================] - 1s 3ms/step - loss: 1.0862 - accuracy: 0.6778 - val_loss: 1.0605 - val_accuracy: 0.6975\n",
      "Epoch 7/100\n",
      "200/200 [==============================] - 1s 3ms/step - loss: 1.0160 - accuracy: 0.7141 - val_loss: 0.9977 - val_accuracy: 0.7219\n",
      "Epoch 8/100\n",
      "200/200 [==============================] - 1s 3ms/step - loss: 0.9504 - accuracy: 0.7356 - val_loss: 0.9395 - val_accuracy: 0.7344\n",
      "Epoch 9/100\n",
      "200/200 [==============================] - 1s 3ms/step - loss: 0.8934 - accuracy: 0.7530 - val_loss: 0.8890 - val_accuracy: 0.7475\n",
      "Epoch 10/100\n",
      "200/200 [==============================] - 1s 3ms/step - loss: 0.8373 - accuracy: 0.7755 - val_loss: 0.8444 - val_accuracy: 0.7581\n",
      "Epoch 11/100\n",
      "200/200 [==============================] - 1s 3ms/step - loss: 0.7949 - accuracy: 0.7827 - val_loss: 0.8055 - val_accuracy: 0.7663\n",
      "Epoch 12/100\n",
      "200/200 [==============================] - 1s 3ms/step - loss: 0.7528 - accuracy: 0.7922 - val_loss: 0.7708 - val_accuracy: 0.7688\n",
      "Epoch 13/100\n",
      "200/200 [==============================] - 1s 3ms/step - loss: 0.7151 - accuracy: 0.8039 - val_loss: 0.7412 - val_accuracy: 0.7800\n",
      "Epoch 14/100\n",
      "200/200 [==============================] - 1s 3ms/step - loss: 0.6806 - accuracy: 0.8112 - val_loss: 0.7147 - val_accuracy: 0.7887\n",
      "Epoch 15/100\n",
      "200/200 [==============================] - 1s 3ms/step - loss: 0.6500 - accuracy: 0.8227 - val_loss: 0.6913 - val_accuracy: 0.7950\n",
      "Epoch 16/100\n",
      "200/200 [==============================] - 1s 3ms/step - loss: 0.6218 - accuracy: 0.8295 - val_loss: 0.6695 - val_accuracy: 0.7950\n",
      "Epoch 17/100\n",
      "200/200 [==============================] - 1s 3ms/step - loss: 0.5947 - accuracy: 0.8364 - val_loss: 0.6503 - val_accuracy: 0.8025\n",
      "Epoch 18/100\n",
      "200/200 [==============================] - 1s 3ms/step - loss: 0.5719 - accuracy: 0.8444 - val_loss: 0.6331 - val_accuracy: 0.8056\n",
      "Epoch 19/100\n",
      "200/200 [==============================] - 1s 3ms/step - loss: 0.5507 - accuracy: 0.8509 - val_loss: 0.6177 - val_accuracy: 0.8050\n",
      "Epoch 20/100\n",
      "200/200 [==============================] - 1s 3ms/step - loss: 0.5305 - accuracy: 0.8578 - val_loss: 0.6051 - val_accuracy: 0.8094\n",
      "Epoch 21/100\n",
      "200/200 [==============================] - 1s 3ms/step - loss: 0.5114 - accuracy: 0.8603 - val_loss: 0.5908 - val_accuracy: 0.8100\n",
      "Epoch 22/100\n",
      "200/200 [==============================] - 1s 3ms/step - loss: 0.4954 - accuracy: 0.8680 - val_loss: 0.5794 - val_accuracy: 0.8112\n",
      "Epoch 23/100\n",
      "200/200 [==============================] - 1s 3ms/step - loss: 0.4752 - accuracy: 0.8736 - val_loss: 0.5677 - val_accuracy: 0.8150\n",
      "Epoch 24/100\n",
      "200/200 [==============================] - 1s 3ms/step - loss: 0.4606 - accuracy: 0.8800 - val_loss: 0.5583 - val_accuracy: 0.8156\n",
      "Epoch 25/100\n",
      "200/200 [==============================] - 1s 3ms/step - loss: 0.4453 - accuracy: 0.8838 - val_loss: 0.5486 - val_accuracy: 0.8175\n",
      "Epoch 26/100\n",
      "200/200 [==============================] - 1s 3ms/step - loss: 0.4308 - accuracy: 0.8873 - val_loss: 0.5407 - val_accuracy: 0.8188\n",
      "Epoch 27/100\n",
      "200/200 [==============================] - 1s 3ms/step - loss: 0.4155 - accuracy: 0.8922 - val_loss: 0.5325 - val_accuracy: 0.8219\n",
      "Epoch 28/100\n",
      "200/200 [==============================] - 1s 3ms/step - loss: 0.4017 - accuracy: 0.8923 - val_loss: 0.5259 - val_accuracy: 0.8250\n",
      "Epoch 29/100\n",
      "200/200 [==============================] - 1s 4ms/step - loss: 0.3897 - accuracy: 0.8975 - val_loss: 0.5190 - val_accuracy: 0.8275\n",
      "Epoch 30/100\n",
      "200/200 [==============================] - 1s 4ms/step - loss: 0.3754 - accuracy: 0.9045 - val_loss: 0.5125 - val_accuracy: 0.8281\n",
      "Epoch 31/100\n",
      "200/200 [==============================] - 1s 4ms/step - loss: 0.3645 - accuracy: 0.9081 - val_loss: 0.5072 - val_accuracy: 0.8294\n",
      "Epoch 32/100\n",
      "200/200 [==============================] - 1s 4ms/step - loss: 0.3551 - accuracy: 0.9089 - val_loss: 0.5026 - val_accuracy: 0.8294\n",
      "Epoch 33/100\n",
      "200/200 [==============================] - 1s 4ms/step - loss: 0.3462 - accuracy: 0.9147 - val_loss: 0.4979 - val_accuracy: 0.8319\n",
      "Epoch 34/100\n",
      "200/200 [==============================] - 1s 4ms/step - loss: 0.3316 - accuracy: 0.9166 - val_loss: 0.4942 - val_accuracy: 0.8344\n",
      "Epoch 35/100\n",
      "200/200 [==============================] - 1s 4ms/step - loss: 0.3255 - accuracy: 0.9206 - val_loss: 0.4909 - val_accuracy: 0.8356\n",
      "Epoch 36/100\n",
      "200/200 [==============================] - 1s 4ms/step - loss: 0.3166 - accuracy: 0.9184 - val_loss: 0.4875 - val_accuracy: 0.8381\n",
      "Epoch 37/100\n",
      "200/200 [==============================] - 1s 4ms/step - loss: 0.3036 - accuracy: 0.9258 - val_loss: 0.4847 - val_accuracy: 0.8381\n",
      "Epoch 38/100\n",
      "200/200 [==============================] - 1s 4ms/step - loss: 0.2962 - accuracy: 0.9266 - val_loss: 0.4819 - val_accuracy: 0.8394\n",
      "Epoch 39/100\n",
      "200/200 [==============================] - 1s 4ms/step - loss: 0.2892 - accuracy: 0.9277 - val_loss: 0.4794 - val_accuracy: 0.8400\n",
      "Epoch 40/100\n",
      "200/200 [==============================] - 1s 4ms/step - loss: 0.2804 - accuracy: 0.9314 - val_loss: 0.4771 - val_accuracy: 0.8375\n",
      "Epoch 41/100\n",
      "200/200 [==============================] - 1s 4ms/step - loss: 0.2716 - accuracy: 0.9327 - val_loss: 0.4758 - val_accuracy: 0.8363\n",
      "Epoch 42/100\n",
      "200/200 [==============================] - 1s 4ms/step - loss: 0.2658 - accuracy: 0.9331 - val_loss: 0.4737 - val_accuracy: 0.8388\n",
      "Epoch 43/100\n",
      "200/200 [==============================] - 1s 4ms/step - loss: 0.2549 - accuracy: 0.9389 - val_loss: 0.4731 - val_accuracy: 0.8394\n",
      "Epoch 44/100\n",
      "200/200 [==============================] - 1s 4ms/step - loss: 0.2507 - accuracy: 0.9384 - val_loss: 0.4720 - val_accuracy: 0.8388\n",
      "Epoch 45/100\n",
      "200/200 [==============================] - 1s 4ms/step - loss: 0.2422 - accuracy: 0.9422 - val_loss: 0.4714 - val_accuracy: 0.8381\n",
      "Epoch 46/100\n",
      "200/200 [==============================] - 1s 4ms/step - loss: 0.2347 - accuracy: 0.9431 - val_loss: 0.4701 - val_accuracy: 0.8375\n",
      "Epoch 47/100\n",
      "200/200 [==============================] - 1s 4ms/step - loss: 0.2289 - accuracy: 0.9442 - val_loss: 0.4696 - val_accuracy: 0.8375\n",
      "Epoch 48/100\n",
      "200/200 [==============================] - 1s 4ms/step - loss: 0.2222 - accuracy: 0.9463 - val_loss: 0.4691 - val_accuracy: 0.8381\n",
      "Epoch 49/100\n",
      "200/200 [==============================] - 1s 4ms/step - loss: 0.2155 - accuracy: 0.9481 - val_loss: 0.4697 - val_accuracy: 0.8356\n",
      "Epoch 50/100\n",
      "200/200 [==============================] - 1s 4ms/step - loss: 0.2085 - accuracy: 0.9502 - val_loss: 0.4693 - val_accuracy: 0.8338\n",
      "Epoch 51/100\n",
      "200/200 [==============================] - 1s 4ms/step - loss: 0.2058 - accuracy: 0.9539 - val_loss: 0.4696 - val_accuracy: 0.8344\n",
      "Epoch 52/100\n",
      "200/200 [==============================] - 1s 4ms/step - loss: 0.1986 - accuracy: 0.9542 - val_loss: 0.4693 - val_accuracy: 0.8325\n",
      "Epoch 53/100\n",
      "200/200 [==============================] - 1s 4ms/step - loss: 0.1925 - accuracy: 0.9569 - val_loss: 0.4693 - val_accuracy: 0.8325\n",
      "Epoch 54/100\n",
      "200/200 [==============================] - 1s 4ms/step - loss: 0.1877 - accuracy: 0.9566 - val_loss: 0.4708 - val_accuracy: 0.8325\n",
      "Epoch 55/100\n",
      "200/200 [==============================] - 1s 4ms/step - loss: 0.1833 - accuracy: 0.9586 - val_loss: 0.4717 - val_accuracy: 0.8350\n",
      "Epoch 56/100\n",
      "200/200 [==============================] - 1s 4ms/step - loss: 0.1751 - accuracy: 0.9616 - val_loss: 0.4726 - val_accuracy: 0.8369\n",
      "Epoch 57/100\n",
      "200/200 [==============================] - 1s 4ms/step - loss: 0.1719 - accuracy: 0.9619 - val_loss: 0.4738 - val_accuracy: 0.8356\n"
     ]
    },
    {
     "name": "stdout",
     "output_type": "stream",
     "text": [
      "Epoch 58/100\n",
      "200/200 [==============================] - 1s 4ms/step - loss: 0.1679 - accuracy: 0.9639 - val_loss: 0.4765 - val_accuracy: 0.8350\n",
      "Epoch 00058: early stopping\n"
     ]
    },
    {
     "data": {
      "text/plain": [
       "<tensorflow.python.keras.callbacks.History at 0x2bf7b9a74a8>"
      ]
     },
     "execution_count": 129,
     "metadata": {},
     "output_type": "execute_result"
    }
   ],
   "source": [
    "epochs=100\n",
    "model.fit(train_dataset,\n",
    "          validation_data=valisation_dataset,\n",
    "          epochs=epochs,\n",
    "          callbacks=[early_stopping])"
   ]
  },
  {
   "cell_type": "code",
   "execution_count": 130,
   "metadata": {},
   "outputs": [
    {
     "data": {
      "text/html": [
       "<div>\n",
       "<style scoped>\n",
       "    .dataframe tbody tr th:only-of-type {\n",
       "        vertical-align: middle;\n",
       "    }\n",
       "\n",
       "    .dataframe tbody tr th {\n",
       "        vertical-align: top;\n",
       "    }\n",
       "\n",
       "    .dataframe thead th {\n",
       "        text-align: right;\n",
       "    }\n",
       "</style>\n",
       "<table border=\"1\" class=\"dataframe\">\n",
       "  <thead>\n",
       "    <tr style=\"text-align: right;\">\n",
       "      <th></th>\n",
       "      <th>loss</th>\n",
       "      <th>accuracy</th>\n",
       "      <th>val_loss</th>\n",
       "      <th>val_accuracy</th>\n",
       "    </tr>\n",
       "  </thead>\n",
       "  <tbody>\n",
       "    <tr>\n",
       "      <th>53</th>\n",
       "      <td>0.187711</td>\n",
       "      <td>0.956563</td>\n",
       "      <td>0.470826</td>\n",
       "      <td>0.832500</td>\n",
       "    </tr>\n",
       "    <tr>\n",
       "      <th>54</th>\n",
       "      <td>0.183314</td>\n",
       "      <td>0.958594</td>\n",
       "      <td>0.471727</td>\n",
       "      <td>0.835000</td>\n",
       "    </tr>\n",
       "    <tr>\n",
       "      <th>55</th>\n",
       "      <td>0.175077</td>\n",
       "      <td>0.961563</td>\n",
       "      <td>0.472637</td>\n",
       "      <td>0.836875</td>\n",
       "    </tr>\n",
       "    <tr>\n",
       "      <th>56</th>\n",
       "      <td>0.171933</td>\n",
       "      <td>0.961875</td>\n",
       "      <td>0.473833</td>\n",
       "      <td>0.835625</td>\n",
       "    </tr>\n",
       "    <tr>\n",
       "      <th>57</th>\n",
       "      <td>0.167871</td>\n",
       "      <td>0.963906</td>\n",
       "      <td>0.476514</td>\n",
       "      <td>0.835000</td>\n",
       "    </tr>\n",
       "  </tbody>\n",
       "</table>\n",
       "</div>"
      ],
      "text/plain": [
       "        loss  accuracy  val_loss  val_accuracy\n",
       "53  0.187711  0.956563  0.470826      0.832500\n",
       "54  0.183314  0.958594  0.471727      0.835000\n",
       "55  0.175077  0.961563  0.472637      0.836875\n",
       "56  0.171933  0.961875  0.473833      0.835625\n",
       "57  0.167871  0.963906  0.476514      0.835000"
      ]
     },
     "execution_count": 130,
     "metadata": {},
     "output_type": "execute_result"
    }
   ],
   "source": [
    "loss=pd.DataFrame(model.history.history)\n",
    "loss.tail()"
   ]
  },
  {
   "cell_type": "code",
   "execution_count": 131,
   "metadata": {},
   "outputs": [
    {
     "data": {
      "text/plain": [
       "<matplotlib.axes._subplots.AxesSubplot at 0x2bf7bd400b8>"
      ]
     },
     "execution_count": 131,
     "metadata": {},
     "output_type": "execute_result"
    },
    {
     "data": {
      "image/png": "[encoded data removed]",
      "text/plain": [
       "<Figure size 432x288 with 1 Axes>"
      ]
     },
     "metadata": {},
     "output_type": "display_data"
    }
   ],
   "source": [
    "loss[[\"loss\",\"val_loss\"]].plot()"
   ]
  },
  {
   "cell_type": "code",
   "execution_count": 132,
   "metadata": {},
   "outputs": [
    {
     "data": {
      "text/plain": [
       "<matplotlib.axes._subplots.AxesSubplot at 0x2bf7b69dd68>"
      ]
     },
     "execution_count": 132,
     "metadata": {},
     "output_type": "execute_result"
    },
    {
     "data": {
      "image/png": "[encoded data removed]",
      "text/plain": [
       "<Figure size 432x288 with 1 Axes>"
      ]
     },
     "metadata": {},
     "output_type": "display_data"
    }
   ],
   "source": [
    "loss[[\"accuracy\",\"val_accuracy\"]].plot()"
   ]
  },
  {
   "cell_type": "code",
   "execution_count": 133,
   "metadata": {},
   "outputs": [],
   "source": [
    "export_model=tf.keras.Sequential([\n",
    "    vectorize_layer,\n",
    "    model,\n",
    "    layers.Activation('softmax')])"
   ]
  },
  {
   "cell_type": "code",
   "execution_count": 134,
   "metadata": {},
   "outputs": [],
   "source": [
    "export_model.compile(loss=losses.SparseCategoricalCrossentropy(from_logits=True),\n",
    "                    optimizer='adam',metrics=['accuracy'])"
   ]
  },
  {
   "cell_type": "code",
   "execution_count": 135,
   "metadata": {},
   "outputs": [
    {
     "name": "stdout",
     "output_type": "stream",
     "text": [
      "250/250 [==============================] - 5s 19ms/step - loss: 0.9674 - accuracy: 0.8006\n",
      "0.8006250262260437\n"
     ]
    }
   ],
   "source": [
    "loss,accuracy=export_model.evaluate(raw_test_dataset)\n",
    "print(accuracy)"
   ]
  },
  {
   "cell_type": "code",
   "execution_count": 136,
   "metadata": {},
   "outputs": [],
   "source": [
    "#y_pred=export_model.predict_classes(raw_test_dataset)\n",
    "y_pred=np.argmax(export_model.predict(raw_test_dataset),axis=-1)"
   ]
  },
  {
   "cell_type": "code",
   "execution_count": 137,
   "metadata": {},
   "outputs": [
    {
     "data": {
      "text/plain": [
       "array([3, 1, 3, ..., 3, 3, 2], dtype=int64)"
      ]
     },
     "execution_count": 137,
     "metadata": {},
     "output_type": "execute_result"
    }
   ],
   "source": [
    "y_pred"
   ]
  }
 ],
 "metadata": {
  "kernelspec": {
   "display_name": "Python 3",
   "language": "python",
   "name": "python3"
  },
  "language_info": {
   "codemirror_mode": {
    "name": "ipython",
    "version": 3
   },
   "file_extension": ".py",
   "mimetype": "text/x-python",
   "name": "python",
   "nbconvert_exporter": "python",
   "pygments_lexer": "ipython3",
   "version": "3.7.3"
  }
 },
 "nbformat": 4,
 "nbformat_minor": 2
}
