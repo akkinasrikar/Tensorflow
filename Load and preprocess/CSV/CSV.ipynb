{
 "cells": [
  {
   "cell_type": "code",
   "execution_count": 1,
   "metadata": {},
   "outputs": [],
   "source": [
    "import functools\n",
    "import numpy as np\n",
    "import matplotlib.pyplot as plt\n",
    "from matplotlib import style\n",
    "style.use('fivethirtyeight')\n",
    "import tensorflow as tf"
   ]
  },
  {
   "cell_type": "code",
   "execution_count": 2,
   "metadata": {},
   "outputs": [],
   "source": [
    "train_data_url=\"https://storage.googleapis.com/tf-datasets/titanic/train.csv\"\n",
    "test_data_url=\"https://storage.googleapis.com/tf-datasets/titanic/eval.csv\""
   ]
  },
  {
   "cell_type": "code",
   "execution_count": 3,
   "metadata": {},
   "outputs": [],
   "source": [
    "train_file_path=tf.keras.utils.get_file('train.csv',train_data_url)\n",
    "test_file_path=tf.keras.utils.get_file('eval.csv',test_data_url)"
   ]
  },
  {
   "cell_type": "code",
   "execution_count": 4,
   "metadata": {},
   "outputs": [
    {
     "data": {
      "text/plain": [
       "'C:\\\\Users\\\\personal\\\\.keras\\\\datasets\\\\train.csv'"
      ]
     },
     "execution_count": 4,
     "metadata": {},
     "output_type": "execute_result"
    }
   ],
   "source": [
    "train_file_path"
   ]
  },
  {
   "cell_type": "code",
   "execution_count": 5,
   "metadata": {},
   "outputs": [],
   "source": [
    "np.set_printoptions(precision=3,suppress=True)"
   ]
  },
  {
   "cell_type": "code",
   "execution_count": 6,
   "metadata": {},
   "outputs": [
    {
     "name": "stdout",
     "output_type": "stream",
     "text": [
      "survived,sex,age,n_siblings_spouses,parch,fare,class,deck,embark_town,alone\n",
      "0,male,22.0,1,0,7.25,Third,unknown,Southampton,n\n",
      "1,female,38.0,1,0,71.2833,First,C,Cherbourg,n\n",
      "1,female,26.0,0,0,7.925,Third,unknown,Southampton,y\n",
      "1,female,35.0,1,0,53.1,First,C,Southampton,n\n",
      "0,male,28.0,0,0,8.4583,Third,unknown,Queenstown,y\n",
      "0,male,2.0,3,1,21.075,Third,unknown,Southampton,n\n",
      "1,female,27.0,0,2,11.1333,Third,unknown,Southampton,n\n",
      "1,female,14.0,1,0,30.0708,Second,unknown,Cherbourg,n\n",
      "1,female,4.0,1,1,16.7,Third,G,Southampton,n\n"
     ]
    },
    {
     "name": "stderr",
     "output_type": "stream",
     "text": [
      "The system cannot find the path specified.\n"
     ]
    }
   ],
   "source": [
    "!head {train_file_path}"
   ]
  },
  {
   "cell_type": "code",
   "execution_count": 7,
   "metadata": {},
   "outputs": [],
   "source": [
    "label_column='survived'\n",
    "labels=[0,1]"
   ]
  },
  {
   "cell_type": "code",
   "execution_count": 8,
   "metadata": {},
   "outputs": [],
   "source": [
    "def get_dataset(file_path,**kwargs):\n",
    "    dataset=tf.data.experimental.make_csv_dataset(\n",
    "        file_path,\n",
    "        batch_size=5,\n",
    "        label_name=label_column,\n",
    "        na_value=\"?\",\n",
    "        num_epochs=1,\n",
    "        ignore_errors=True,\n",
    "        **kwargs)\n",
    "    return dataset"
   ]
  },
  {
   "cell_type": "code",
   "execution_count": 9,
   "metadata": {},
   "outputs": [],
   "source": [
    "raw_train_data=get_dataset(train_file_path)\n",
    "raw_test_data=get_dataset(test_file_path)"
   ]
  },
  {
   "cell_type": "code",
   "execution_count": 10,
   "metadata": {},
   "outputs": [],
   "source": [
    "def display_batch(dataset):\n",
    "    for batch,label in dataset.take(1):\n",
    "        for key,value in batch.items():\n",
    "            print(\"{:20s}: {}\".format(key,value.numpy()))\n",
    "            "
   ]
  },
  {
   "cell_type": "code",
   "execution_count": 11,
   "metadata": {},
   "outputs": [
    {
     "name": "stdout",
     "output_type": "stream",
     "text": [
      "sex                 : [b'male' b'male' b'male' b'male' b'female']\n",
      "age                 : [35. 18.  7. 25. 28.]\n",
      "n_siblings_spouses  : [0 0 4 0 2]\n",
      "parch               : [0 0 1 0 0]\n",
      "fare                : [ 8.05   7.775 39.688 13.    23.25 ]\n",
      "class               : [b'Third' b'Third' b'Third' b'Second' b'Third']\n",
      "deck                : [b'unknown' b'unknown' b'unknown' b'unknown' b'unknown']\n",
      "embark_town         : [b'Southampton' b'Southampton' b'Southampton' b'Southampton' b'Queenstown']\n",
      "alone               : [b'y' b'y' b'n' b'y' b'n']\n"
     ]
    }
   ],
   "source": [
    "display_batch(raw_train_data)"
   ]
  },
  {
   "cell_type": "code",
   "execution_count": 12,
   "metadata": {},
   "outputs": [
    {
     "name": "stdout",
     "output_type": "stream",
     "text": [
      "sex                 : [b'male' b'male' b'female' b'male' b'male']\n",
      "age                 : [19. 28. 40. 11. 38.]\n",
      "n_siblings_spouses  : [0 0 1 0 0]\n",
      "parch               : [0 0 1 0 0]\n",
      "fare                : [ 10.5     7.225 134.5    18.788   7.05 ]\n",
      "class               : [b'Second' b'Third' b'First' b'Third' b'Third']\n",
      "deck                : [b'unknown' b'unknown' b'E' b'unknown' b'unknown']\n",
      "embark_town         : [b'Southampton' b'Cherbourg' b'Cherbourg' b'Cherbourg' b'Southampton']\n",
      "alone               : [b'y' b'y' b'n' b'y' b'y']\n"
     ]
    }
   ],
   "source": [
    "csv_columns=['survived', 'sex', 'age', 'n_siblings_spouses', 'parch', 'fare', 'class', 'deck', 'embark_town', 'alone']\n",
    "temp_dataset=get_dataset(train_file_path,column_names=csv_columns)\n",
    "display_batch(temp_dataset)"
   ]
  },
  {
   "cell_type": "code",
   "execution_count": 13,
   "metadata": {},
   "outputs": [
    {
     "name": "stdout",
     "output_type": "stream",
     "text": [
      "age                 : [40. 50. 29. 29. 47.]\n",
      "n_siblings_spouses  : [1 2 1 0 0]\n",
      "class               : [b'Second' b'First' b'Second' b'First' b'Third']\n",
      "deck                : [b'unknown' b'unknown' b'unknown' b'D' b'unknown']\n",
      "alone               : [b'n' b'n' b'n' b'y' b'y']\n"
     ]
    }
   ],
   "source": [
    "select_columns=['survived', 'age', 'n_siblings_spouses', 'class', 'deck', 'alone']\n",
    "temp_dataset=get_dataset(train_file_path,select_columns=select_columns)\n",
    "display_batch(temp_dataset)"
   ]
  },
  {
   "cell_type": "code",
   "execution_count": 14,
   "metadata": {},
   "outputs": [
    {
     "name": "stdout",
     "output_type": "stream",
     "text": [
      "age                 : [28.  70.5 22.  39.  28. ]\n",
      "n_siblings_spouses  : [0. 0. 0. 1. 0.]\n",
      "parch               : [0. 0. 0. 1. 0.]\n",
      "fare                : [ 7.787  7.75   9.35  79.65   7.896]\n"
     ]
    }
   ],
   "source": [
    "select_columns = ['survived', 'age', 'n_siblings_spouses', 'parch', 'fare']\n",
    "defualts=[0,0.0,0.0,0.0,0.0]\n",
    "temp_dataset=get_dataset(train_file_path,\n",
    "                        select_columns=select_columns,\n",
    "                        column_defaults=defualts)\n",
    "display_batch(temp_dataset)"
   ]
  },
  {
   "cell_type": "code",
   "execution_count": 15,
   "metadata": {},
   "outputs": [],
   "source": [
    "example_batch,labels_batch=next(iter(temp_dataset))"
   ]
  },
  {
   "cell_type": "code",
   "execution_count": 16,
   "metadata": {},
   "outputs": [],
   "source": [
    "def pack(features,labels):\n",
    "    return tf.stack(list(features.values()),axis=-1),labels"
   ]
  },
  {
   "cell_type": "code",
   "execution_count": 17,
   "metadata": {},
   "outputs": [],
   "source": [
    "packed_dataset=temp_dataset.map(pack)"
   ]
  },
  {
   "cell_type": "code",
   "execution_count": 18,
   "metadata": {},
   "outputs": [
    {
     "name": "stdout",
     "output_type": "stream",
     "text": [
      "[[18.     1.     1.    20.212]\n",
      " [28.     0.     0.     7.225]\n",
      " [31.     0.     0.     7.775]\n",
      " [35.     0.     0.    26.   ]\n",
      " [ 7.     4.     1.    39.688]]\n",
      "-----------------------------------\n",
      "[0 1 0 0 0]\n"
     ]
    }
   ],
   "source": [
    "for features,labels in packed_dataset.take(1):\n",
    "    print(features.numpy())\n",
    "    print(\"-----------------------------------\")\n",
    "    print(labels.numpy())"
   ]
  },
  {
   "cell_type": "code",
   "execution_count": 30,
   "metadata": {},
   "outputs": [],
   "source": [
    "class PackNumericFeatures(object):\n",
    "    def __init__(self,names):\n",
    "        self.names=names\n",
    "    def __call__(self,features,labels):\n",
    "        numeric_features=[features.pop(name) for name in self.names]\n",
    "        numeric_features=[tf.cast(ft,tf.float32) for ft in numeric_features]\n",
    "        numeric_features=tf.stack(numeric_features,axis=-1)\n",
    "        features['numeric']=numeric_features\n",
    "        return features,labels\n",
    "        "
   ]
  },
  {
   "cell_type": "code",
   "execution_count": 20,
   "metadata": {},
   "outputs": [],
   "source": [
    "numeric_features=['age','n_siblings_spouses','parch', 'fare']\n",
    "packed_train_dataset=raw_train_data.map(PackNumericFeatures(numeric_features))"
   ]
  },
  {
   "cell_type": "code",
   "execution_count": 21,
   "metadata": {},
   "outputs": [],
   "source": [
    "packed_test_dataset=raw_test_data.map(PackNumericFeatures(numeric_features))"
   ]
  },
  {
   "cell_type": "code",
   "execution_count": 22,
   "metadata": {},
   "outputs": [
    {
     "name": "stdout",
     "output_type": "stream",
     "text": [
      "sex                 : [b'male' b'female' b'male' b'male' b'female']\n",
      "class               : [b'Third' b'First' b'First' b'Third' b'Second']\n",
      "deck                : [b'unknown' b'D' b'C' b'unknown' b'unknown']\n",
      "embark_town         : [b'Southampton' b'Southampton' b'Cherbourg' b'Southampton' b'Southampton']\n",
      "alone               : [b'y' b'n' b'n' b'n' b'n']\n",
      "numeric             : [[ 45.      0.      0.      6.975]\n",
      " [ 63.      1.      0.     77.958]\n",
      " [ 27.      0.      2.    211.5  ]\n",
      " [ 10.      3.      2.     27.9  ]\n",
      " [  4.      1.      1.     23.   ]]\n"
     ]
    }
   ],
   "source": [
    "display_batch(packed_train_dataset)"
   ]
  },
  {
   "cell_type": "code",
   "execution_count": 31,
   "metadata": {},
   "outputs": [
    {
     "data": {
      "text/plain": [
       "OrderedDict([('sex',\n",
       "              <tf.Tensor: shape=(5,), dtype=string, numpy=array([b'male', b'male', b'male', b'male', b'male'], dtype=object)>),\n",
       "             ('class',\n",
       "              <tf.Tensor: shape=(5,), dtype=string, numpy=array([b'Third', b'Third', b'First', b'Third', b'Second'], dtype=object)>),\n",
       "             ('deck',\n",
       "              <tf.Tensor: shape=(5,), dtype=string, numpy=array([b'unknown', b'unknown', b'C', b'unknown', b'unknown'], dtype=object)>),\n",
       "             ('embark_town', <tf.Tensor: shape=(5,), dtype=string, numpy=\n",
       "              array([b'Southampton', b'Southampton', b'Southampton', b'Southampton',\n",
       "                     b'Southampton'], dtype=object)>),\n",
       "             ('alone',\n",
       "              <tf.Tensor: shape=(5,), dtype=string, numpy=array([b'y', b'y', b'y', b'y', b'n'], dtype=object)>),\n",
       "             ('numeric', <tf.Tensor: shape=(5, 4), dtype=float32, numpy=\n",
       "              array([[36.   ,  0.   ,  0.   ,  7.496],\n",
       "                     [34.   ,  0.   ,  0.   ,  6.496],\n",
       "                     [28.   ,  0.   ,  0.   , 30.5  ],\n",
       "                     [41.   ,  0.   ,  0.   ,  7.125],\n",
       "                     [23.   ,  2.   ,  1.   , 11.5  ]], dtype=float32)>)])"
      ]
     },
     "execution_count": 31,
     "metadata": {},
     "output_type": "execute_result"
    }
   ],
   "source": [
    "example_batch,labels_batch=next(iter(packed_train_dataset))\n",
    "example_batch"
   ]
  },
  {
   "cell_type": "code",
   "execution_count": 24,
   "metadata": {},
   "outputs": [
    {
     "data": {
      "text/html": [
       "<div>\n",
       "<style scoped>\n",
       "    .dataframe tbody tr th:only-of-type {\n",
       "        vertical-align: middle;\n",
       "    }\n",
       "\n",
       "    .dataframe tbody tr th {\n",
       "        vertical-align: top;\n",
       "    }\n",
       "\n",
       "    .dataframe thead th {\n",
       "        text-align: right;\n",
       "    }\n",
       "</style>\n",
       "<table border=\"1\" class=\"dataframe\">\n",
       "  <thead>\n",
       "    <tr style=\"text-align: right;\">\n",
       "      <th></th>\n",
       "      <th>age</th>\n",
       "      <th>n_siblings_spouses</th>\n",
       "      <th>parch</th>\n",
       "      <th>fare</th>\n",
       "    </tr>\n",
       "  </thead>\n",
       "  <tbody>\n",
       "    <tr>\n",
       "      <th>count</th>\n",
       "      <td>627.000000</td>\n",
       "      <td>627.000000</td>\n",
       "      <td>627.000000</td>\n",
       "      <td>627.000000</td>\n",
       "    </tr>\n",
       "    <tr>\n",
       "      <th>mean</th>\n",
       "      <td>29.631308</td>\n",
       "      <td>0.545455</td>\n",
       "      <td>0.379585</td>\n",
       "      <td>34.385399</td>\n",
       "    </tr>\n",
       "    <tr>\n",
       "      <th>std</th>\n",
       "      <td>12.511818</td>\n",
       "      <td>1.151090</td>\n",
       "      <td>0.792999</td>\n",
       "      <td>54.597730</td>\n",
       "    </tr>\n",
       "    <tr>\n",
       "      <th>min</th>\n",
       "      <td>0.750000</td>\n",
       "      <td>0.000000</td>\n",
       "      <td>0.000000</td>\n",
       "      <td>0.000000</td>\n",
       "    </tr>\n",
       "    <tr>\n",
       "      <th>25%</th>\n",
       "      <td>23.000000</td>\n",
       "      <td>0.000000</td>\n",
       "      <td>0.000000</td>\n",
       "      <td>7.895800</td>\n",
       "    </tr>\n",
       "    <tr>\n",
       "      <th>50%</th>\n",
       "      <td>28.000000</td>\n",
       "      <td>0.000000</td>\n",
       "      <td>0.000000</td>\n",
       "      <td>15.045800</td>\n",
       "    </tr>\n",
       "    <tr>\n",
       "      <th>75%</th>\n",
       "      <td>35.000000</td>\n",
       "      <td>1.000000</td>\n",
       "      <td>0.000000</td>\n",
       "      <td>31.387500</td>\n",
       "    </tr>\n",
       "    <tr>\n",
       "      <th>max</th>\n",
       "      <td>80.000000</td>\n",
       "      <td>8.000000</td>\n",
       "      <td>5.000000</td>\n",
       "      <td>512.329200</td>\n",
       "    </tr>\n",
       "  </tbody>\n",
       "</table>\n",
       "</div>"
      ],
      "text/plain": [
       "              age  n_siblings_spouses       parch        fare\n",
       "count  627.000000          627.000000  627.000000  627.000000\n",
       "mean    29.631308            0.545455    0.379585   34.385399\n",
       "std     12.511818            1.151090    0.792999   54.597730\n",
       "min      0.750000            0.000000    0.000000    0.000000\n",
       "25%     23.000000            0.000000    0.000000    7.895800\n",
       "50%     28.000000            0.000000    0.000000   15.045800\n",
       "75%     35.000000            1.000000    0.000000   31.387500\n",
       "max     80.000000            8.000000    5.000000  512.329200"
      ]
     },
     "execution_count": 24,
     "metadata": {},
     "output_type": "execute_result"
    }
   ],
   "source": [
    "import pandas as pd\n",
    "desb=pd.read_csv(train_file_path)[numeric_features].describe()\n",
    "desb"
   ]
  },
  {
   "cell_type": "code",
   "execution_count": 25,
   "metadata": {},
   "outputs": [],
   "source": [
    "mean=np.array(desb.T['mean'])\n",
    "std=np.array(desb.T['std'])"
   ]
  },
  {
   "cell_type": "code",
   "execution_count": 26,
   "metadata": {},
   "outputs": [],
   "source": [
    "def normalize_numeric_data(data,mean,std):\n",
    "    return (data-mean)/std"
   ]
  },
  {
   "cell_type": "code",
   "execution_count": 37,
   "metadata": {},
   "outputs": [
    {
     "data": {
      "text/plain": [
       "NumericColumn(key='numeric', shape=(4,), default_value=None, dtype=tf.float32, normalizer_fn=functools.partial(<function normalize_numeric_data at 0x000002B30E5A6048>, mean=array([29.631,  0.545,  0.38 , 34.385]), std=array([12.512,  1.151,  0.793, 54.598])))"
      ]
     },
     "execution_count": 37,
     "metadata": {},
     "output_type": "execute_result"
    }
   ],
   "source": [
    "normalizer=functools.partial(normalize_numeric_data,mean=mean,std=std)\n",
    "numeric_column=tf.feature_column.numeric_column('numeric',normalizer_fn=normalizer,shape=[len(numeric_features)])\n",
    "numeric_columns=[numeric_column]\n",
    "numeric_column"
   ]
  },
  {
   "cell_type": "code",
   "execution_count": 38,
   "metadata": {},
   "outputs": [
    {
     "data": {
      "text/plain": [
       "<tf.Tensor: shape=(5, 4), dtype=float32, numpy=\n",
       "array([[36.   ,  0.   ,  0.   ,  7.496],\n",
       "       [34.   ,  0.   ,  0.   ,  6.496],\n",
       "       [28.   ,  0.   ,  0.   , 30.5  ],\n",
       "       [41.   ,  0.   ,  0.   ,  7.125],\n",
       "       [23.   ,  2.   ,  1.   , 11.5  ]], dtype=float32)>"
      ]
     },
     "execution_count": 38,
     "metadata": {},
     "output_type": "execute_result"
    }
   ],
   "source": [
    "example_batch['numeric']"
   ]
  },
  {
   "cell_type": "code",
   "execution_count": 39,
   "metadata": {},
   "outputs": [
    {
     "data": {
      "text/plain": [
       "array([[ 0.509, -0.474, -0.479, -0.493],\n",
       "       [ 0.349, -0.474, -0.479, -0.511],\n",
       "       [-0.13 , -0.474, -0.479, -0.071],\n",
       "       [ 0.909, -0.474, -0.479, -0.499],\n",
       "       [-0.53 ,  1.264,  0.782, -0.419]], dtype=float32)"
      ]
     },
     "execution_count": 39,
     "metadata": {},
     "output_type": "execute_result"
    }
   ],
   "source": [
    "numeric_layer = tf.keras.layers.DenseFeatures(numeric_columns)\n",
    "numeric_layer(example_batch).numpy()"
   ]
  },
  {
   "cell_type": "code",
   "execution_count": 40,
   "metadata": {},
   "outputs": [],
   "source": [
    "categories = {\n",
    "    'sex': ['male', 'female'],\n",
    "    'class' : ['First', 'Second', 'Third'],\n",
    "    'deck' : ['A', 'B', 'C', 'D', 'E', 'F', 'G', 'H', 'I', 'J'],\n",
    "    'embark_town' : ['Cherbourg', 'Southhampton', 'Queenstown'],\n",
    "    'alone' : ['y', 'n']\n",
    "}"
   ]
  },
  {
   "cell_type": "code",
   "execution_count": 43,
   "metadata": {},
   "outputs": [],
   "source": [
    "categorical_columns=[]\n",
    "for feature,vocab in categories.items():\n",
    "    cat_col=tf.feature_column.categorical_column_with_vocabulary_list(key=feature,vocabulary_list=vocab)\n",
    "    categorical_columns.append(tf.feature_column.indicator_column(cat_col))"
   ]
  },
  {
   "cell_type": "code",
   "execution_count": 44,
   "metadata": {},
   "outputs": [
    {
     "data": {
      "text/plain": [
       "[IndicatorColumn(categorical_column=VocabularyListCategoricalColumn(key='sex', vocabulary_list=('male', 'female'), dtype=tf.string, default_value=-1, num_oov_buckets=0)),\n",
       " IndicatorColumn(categorical_column=VocabularyListCategoricalColumn(key='class', vocabulary_list=('First', 'Second', 'Third'), dtype=tf.string, default_value=-1, num_oov_buckets=0)),\n",
       " IndicatorColumn(categorical_column=VocabularyListCategoricalColumn(key='deck', vocabulary_list=('A', 'B', 'C', 'D', 'E', 'F', 'G', 'H', 'I', 'J'), dtype=tf.string, default_value=-1, num_oov_buckets=0)),\n",
       " IndicatorColumn(categorical_column=VocabularyListCategoricalColumn(key='embark_town', vocabulary_list=('Cherbourg', 'Southhampton', 'Queenstown'), dtype=tf.string, default_value=-1, num_oov_buckets=0)),\n",
       " IndicatorColumn(categorical_column=VocabularyListCategoricalColumn(key='alone', vocabulary_list=('y', 'n'), dtype=tf.string, default_value=-1, num_oov_buckets=0))]"
      ]
     },
     "execution_count": 44,
     "metadata": {},
     "output_type": "execute_result"
    }
   ],
   "source": [
    "categorical_columns"
   ]
  },
  {
   "cell_type": "code",
   "execution_count": 45,
   "metadata": {},
   "outputs": [
    {
     "name": "stdout",
     "output_type": "stream",
     "text": [
      "[1. 0. 0. 0. 1. 0. 0. 0. 0. 0. 0. 0. 0. 0. 0. 0. 0. 0. 1. 0.]\n"
     ]
    }
   ],
   "source": [
    "categorical_layer=tf.keras.layers.DenseFeatures(categorical_columns)\n",
    "print(categorical_layer(example_batch).numpy()[0])"
   ]
  },
  {
   "cell_type": "code",
   "execution_count": 46,
   "metadata": {},
   "outputs": [],
   "source": [
    "preprocessing_layer=tf.keras.layers.DenseFeatures(categorical_columns+numeric_columns)"
   ]
  },
  {
   "cell_type": "code",
   "execution_count": 47,
   "metadata": {},
   "outputs": [
    {
     "data": {
      "text/plain": [
       "array([ 1.   ,  0.   ,  0.   ,  0.   ,  1.   ,  0.   ,  0.   ,  0.   ,\n",
       "        0.   ,  0.   ,  0.   ,  0.   ,  0.   ,  0.   ,  0.   ,  0.   ,\n",
       "        0.   ,  0.   ,  0.509, -0.474, -0.479, -0.493,  1.   ,  0.   ],\n",
       "      dtype=float32)"
      ]
     },
     "execution_count": 47,
     "metadata": {},
     "output_type": "execute_result"
    }
   ],
   "source": [
    "preprocessing_layer(example_batch).numpy()[0]"
   ]
  },
  {
   "cell_type": "code",
   "execution_count": 53,
   "metadata": {},
   "outputs": [],
   "source": [
    "model = tf.keras.Sequential([\n",
    "          preprocessing_layer,\n",
    "          tf.keras.layers.Dense(128, activation='relu'),\n",
    "          tf.keras.layers.Dense(128, activation='relu'),\n",
    "          tf.keras.layers.Dense(1)])"
   ]
  },
  {
   "cell_type": "code",
   "execution_count": 54,
   "metadata": {},
   "outputs": [],
   "source": [
    "model.compile(\n",
    "    loss=tf.keras.losses.BinaryCrossentropy(from_logits=True),\n",
    "    optimizer='adam',\n",
    "    metrics=['accuracy'])"
   ]
  },
  {
   "cell_type": "code",
   "execution_count": 55,
   "metadata": {},
   "outputs": [],
   "source": [
    "train_data=packed_train_dataset.shuffle(500)\n",
    "test_data=packed_test_dataset"
   ]
  },
  {
   "cell_type": "code",
   "execution_count": 56,
   "metadata": {},
   "outputs": [
    {
     "name": "stdout",
     "output_type": "stream",
     "text": [
      "Epoch 1/30\n",
      "WARNING:tensorflow:Layers in a Sequential model should only have a single input tensor, but we receive a <class 'collections.OrderedDict'> input: OrderedDict([('sex', <tf.Tensor 'ExpandDims_4:0' shape=(None, 1) dtype=string>), ('class', <tf.Tensor 'ExpandDims_1:0' shape=(None, 1) dtype=string>), ('deck', <tf.Tensor 'ExpandDims_2:0' shape=(None, 1) dtype=string>), ('embark_town', <tf.Tensor 'ExpandDims_3:0' shape=(None, 1) dtype=string>), ('alone', <tf.Tensor 'ExpandDims:0' shape=(None, 1) dtype=string>), ('numeric', <tf.Tensor 'IteratorGetNext:4' shape=(None, 4) dtype=float32>)])\n",
      "Consider rewriting this model with the Functional API.\n",
      "WARNING:tensorflow:Layers in a Sequential model should only have a single input tensor, but we receive a <class 'collections.OrderedDict'> input: OrderedDict([('sex', <tf.Tensor 'ExpandDims_4:0' shape=(None, 1) dtype=string>), ('class', <tf.Tensor 'ExpandDims_1:0' shape=(None, 1) dtype=string>), ('deck', <tf.Tensor 'ExpandDims_2:0' shape=(None, 1) dtype=string>), ('embark_town', <tf.Tensor 'ExpandDims_3:0' shape=(None, 1) dtype=string>), ('alone', <tf.Tensor 'ExpandDims:0' shape=(None, 1) dtype=string>), ('numeric', <tf.Tensor 'IteratorGetNext:4' shape=(None, 4) dtype=float32>)])\n",
      "Consider rewriting this model with the Functional API.\n",
      "    111/Unknown - 0s 916us/step - loss: 0.5307 - accuracy: 0.7264WARNING:tensorflow:Layers in a Sequential model should only have a single input tensor, but we receive a <class 'collections.OrderedDict'> input: OrderedDict([('sex', <tf.Tensor 'ExpandDims_4:0' shape=(None, 1) dtype=string>), ('class', <tf.Tensor 'ExpandDims_1:0' shape=(None, 1) dtype=string>), ('deck', <tf.Tensor 'ExpandDims_2:0' shape=(None, 1) dtype=string>), ('embark_town', <tf.Tensor 'ExpandDims_3:0' shape=(None, 1) dtype=string>), ('alone', <tf.Tensor 'ExpandDims:0' shape=(None, 1) dtype=string>), ('numeric', <tf.Tensor 'IteratorGetNext:4' shape=(None, 4) dtype=float32>)])\n",
      "Consider rewriting this model with the Functional API.\n",
      "126/126 [==============================] - 0s 3ms/step - loss: 0.5221 - accuracy: 0.7352 - val_loss: 0.4615 - val_accuracy: 0.7917\n",
      "Epoch 2/30\n",
      "126/126 [==============================] - 0s 2ms/step - loss: 0.4170 - accuracy: 0.8198 - val_loss: 0.4678 - val_accuracy: 0.8068\n",
      "Epoch 3/30\n",
      "126/126 [==============================] - 0s 2ms/step - loss: 0.4010 - accuracy: 0.8293 - val_loss: 0.4401 - val_accuracy: 0.8182\n",
      "Epoch 4/30\n",
      "126/126 [==============================] - 0s 2ms/step - loss: 0.3840 - accuracy: 0.8405 - val_loss: 0.4266 - val_accuracy: 0.8182\n",
      "Epoch 5/30\n",
      "126/126 [==============================] - 0s 2ms/step - loss: 0.3836 - accuracy: 0.8293 - val_loss: 0.4212 - val_accuracy: 0.8220\n",
      "Epoch 6/30\n",
      "126/126 [==============================] - 0s 2ms/step - loss: 0.3634 - accuracy: 0.8485 - val_loss: 0.4183 - val_accuracy: 0.8333\n",
      "Epoch 7/30\n",
      "126/126 [==============================] - 0s 2ms/step - loss: 0.3672 - accuracy: 0.8389 - val_loss: 0.4294 - val_accuracy: 0.8258\n",
      "Epoch 8/30\n",
      "126/126 [==============================] - 0s 2ms/step - loss: 0.3576 - accuracy: 0.8421 - val_loss: 0.4336 - val_accuracy: 0.8333\n",
      "Epoch 9/30\n",
      "126/126 [==============================] - 0s 2ms/step - loss: 0.3533 - accuracy: 0.8405 - val_loss: 0.4495 - val_accuracy: 0.8447\n",
      "Epoch 10/30\n",
      "126/126 [==============================] - 0s 2ms/step - loss: 0.3418 - accuracy: 0.8501 - val_loss: 0.4349 - val_accuracy: 0.8144\n",
      "Epoch 11/30\n",
      "126/126 [==============================] - 0s 2ms/step - loss: 0.3364 - accuracy: 0.8501 - val_loss: 0.4539 - val_accuracy: 0.8447\n",
      "Epoch 12/30\n",
      "126/126 [==============================] - 0s 2ms/step - loss: 0.3327 - accuracy: 0.8485 - val_loss: 0.4355 - val_accuracy: 0.8523\n",
      "Epoch 13/30\n",
      "126/126 [==============================] - 0s 2ms/step - loss: 0.3393 - accuracy: 0.8549 - val_loss: 0.4427 - val_accuracy: 0.8447\n",
      "Epoch 14/30\n",
      "126/126 [==============================] - 0s 2ms/step - loss: 0.3193 - accuracy: 0.8501 - val_loss: 0.4536 - val_accuracy: 0.8409\n",
      "Epoch 15/30\n",
      "126/126 [==============================] - 0s 2ms/step - loss: 0.3197 - accuracy: 0.8565 - val_loss: 0.4432 - val_accuracy: 0.8295\n",
      "Epoch 16/30\n",
      "126/126 [==============================] - 0s 2ms/step - loss: 0.3235 - accuracy: 0.8485 - val_loss: 0.4787 - val_accuracy: 0.8220\n",
      "Epoch 17/30\n",
      "126/126 [==============================] - 0s 2ms/step - loss: 0.3167 - accuracy: 0.8644 - val_loss: 0.4415 - val_accuracy: 0.8409\n",
      "Epoch 18/30\n",
      "126/126 [==============================] - 0s 2ms/step - loss: 0.3104 - accuracy: 0.8612 - val_loss: 0.4878 - val_accuracy: 0.8258\n",
      "Epoch 19/30\n",
      "126/126 [==============================] - 0s 2ms/step - loss: 0.3101 - accuracy: 0.8628 - val_loss: 0.4513 - val_accuracy: 0.8485\n",
      "Epoch 20/30\n",
      "126/126 [==============================] - 0s 2ms/step - loss: 0.3049 - accuracy: 0.8708 - val_loss: 0.4809 - val_accuracy: 0.8371\n",
      "Epoch 21/30\n",
      "126/126 [==============================] - 0s 2ms/step - loss: 0.3042 - accuracy: 0.8596 - val_loss: 0.4605 - val_accuracy: 0.8447\n",
      "Epoch 22/30\n",
      "126/126 [==============================] - 0s 2ms/step - loss: 0.2956 - accuracy: 0.8692 - val_loss: 0.4858 - val_accuracy: 0.8447\n",
      "Epoch 23/30\n",
      "126/126 [==============================] - 0s 2ms/step - loss: 0.2995 - accuracy: 0.8660 - val_loss: 0.4639 - val_accuracy: 0.8523\n",
      "Epoch 24/30\n",
      "126/126 [==============================] - 0s 2ms/step - loss: 0.2964 - accuracy: 0.8756 - val_loss: 0.4905 - val_accuracy: 0.8447\n",
      "Epoch 25/30\n",
      "126/126 [==============================] - 0s 2ms/step - loss: 0.2909 - accuracy: 0.8628 - val_loss: 0.5101 - val_accuracy: 0.8523\n",
      "Epoch 26/30\n",
      "126/126 [==============================] - 0s 2ms/step - loss: 0.2964 - accuracy: 0.8596 - val_loss: 0.4999 - val_accuracy: 0.8409\n",
      "Epoch 27/30\n",
      "126/126 [==============================] - 0s 2ms/step - loss: 0.2821 - accuracy: 0.8692 - val_loss: 0.4880 - val_accuracy: 0.8447\n",
      "Epoch 28/30\n",
      "126/126 [==============================] - 0s 2ms/step - loss: 0.2880 - accuracy: 0.8692 - val_loss: 0.4716 - val_accuracy: 0.8447\n",
      "Epoch 29/30\n",
      "126/126 [==============================] - 0s 2ms/step - loss: 0.2836 - accuracy: 0.8724 - val_loss: 0.5023 - val_accuracy: 0.8409\n",
      "Epoch 30/30\n",
      "126/126 [==============================] - 0s 2ms/step - loss: 0.2817 - accuracy: 0.8708 - val_loss: 0.5212 - val_accuracy: 0.8485\n"
     ]
    },
    {
     "data": {
      "text/plain": [
       "<tensorflow.python.keras.callbacks.History at 0x2b3226bdcc0>"
      ]
     },
     "execution_count": 56,
     "metadata": {},
     "output_type": "execute_result"
    }
   ],
   "source": [
    "model.fit(train_data,\n",
    "          validation_data=test_data,\n",
    "          epochs=30)"
   ]
  },
  {
   "cell_type": "code",
   "execution_count": 57,
   "metadata": {},
   "outputs": [
    {
     "data": {
      "text/html": [
       "<div>\n",
       "<style scoped>\n",
       "    .dataframe tbody tr th:only-of-type {\n",
       "        vertical-align: middle;\n",
       "    }\n",
       "\n",
       "    .dataframe tbody tr th {\n",
       "        vertical-align: top;\n",
       "    }\n",
       "\n",
       "    .dataframe thead th {\n",
       "        text-align: right;\n",
       "    }\n",
       "</style>\n",
       "<table border=\"1\" class=\"dataframe\">\n",
       "  <thead>\n",
       "    <tr style=\"text-align: right;\">\n",
       "      <th></th>\n",
       "      <th>loss</th>\n",
       "      <th>accuracy</th>\n",
       "      <th>val_loss</th>\n",
       "      <th>val_accuracy</th>\n",
       "    </tr>\n",
       "  </thead>\n",
       "  <tbody>\n",
       "    <tr>\n",
       "      <th>25</th>\n",
       "      <td>0.296441</td>\n",
       "      <td>0.859649</td>\n",
       "      <td>0.499950</td>\n",
       "      <td>0.840909</td>\n",
       "    </tr>\n",
       "    <tr>\n",
       "      <th>26</th>\n",
       "      <td>0.282101</td>\n",
       "      <td>0.869219</td>\n",
       "      <td>0.488049</td>\n",
       "      <td>0.844697</td>\n",
       "    </tr>\n",
       "    <tr>\n",
       "      <th>27</th>\n",
       "      <td>0.288004</td>\n",
       "      <td>0.869219</td>\n",
       "      <td>0.471586</td>\n",
       "      <td>0.844697</td>\n",
       "    </tr>\n",
       "    <tr>\n",
       "      <th>28</th>\n",
       "      <td>0.283551</td>\n",
       "      <td>0.872408</td>\n",
       "      <td>0.502266</td>\n",
       "      <td>0.840909</td>\n",
       "    </tr>\n",
       "    <tr>\n",
       "      <th>29</th>\n",
       "      <td>0.281718</td>\n",
       "      <td>0.870813</td>\n",
       "      <td>0.521200</td>\n",
       "      <td>0.848485</td>\n",
       "    </tr>\n",
       "  </tbody>\n",
       "</table>\n",
       "</div>"
      ],
      "text/plain": [
       "        loss  accuracy  val_loss  val_accuracy\n",
       "25  0.296441  0.859649  0.499950      0.840909\n",
       "26  0.282101  0.869219  0.488049      0.844697\n",
       "27  0.288004  0.869219  0.471586      0.844697\n",
       "28  0.283551  0.872408  0.502266      0.840909\n",
       "29  0.281718  0.870813  0.521200      0.848485"
      ]
     },
     "execution_count": 57,
     "metadata": {},
     "output_type": "execute_result"
    }
   ],
   "source": [
    "loss=pd.DataFrame(model.history.history)\n",
    "loss.tail()"
   ]
  },
  {
   "cell_type": "code",
   "execution_count": 58,
   "metadata": {},
   "outputs": [
    {
     "data": {
      "text/plain": [
       "<matplotlib.axes._subplots.AxesSubplot at 0x2b32280f9b0>"
      ]
     },
     "execution_count": 58,
     "metadata": {},
     "output_type": "execute_result"
    },
    {
     "data": {
      "image/png": "[encoded data removed]",
      "text/plain": [
       "<Figure size 432x288 with 1 Axes>"
      ]
     },
     "metadata": {
      "needs_background": "light"
     },
     "output_type": "display_data"
    }
   ],
   "source": [
    "loss[[\"loss\",\"val_loss\"]].plot()"
   ]
  },
  {
   "cell_type": "code",
   "execution_count": 59,
   "metadata": {},
   "outputs": [
    {
     "data": {
      "text/plain": [
       "<matplotlib.axes._subplots.AxesSubplot at 0x2b32588c710>"
      ]
     },
     "execution_count": 59,
     "metadata": {},
     "output_type": "execute_result"
    },
    {
     "data": {
      "image/png": "[encoded data removed]",
      "text/plain": [
       "<Figure size 432x288 with 1 Axes>"
      ]
     },
     "metadata": {
      "needs_background": "light"
     },
     "output_type": "display_data"
    }
   ],
   "source": [
    "loss[[\"accuracy\",\"val_accuracy\"]].plot()"
   ]
  },
  {
   "cell_type": "code",
   "execution_count": 60,
   "metadata": {},
   "outputs": [
    {
     "name": "stdout",
     "output_type": "stream",
     "text": [
      "53/53 [==============================] - 0s 960us/step - loss: 0.5212 - accuracy: 0.8485\n",
      "loss is 0.5211995840072632 and accuracy is 84.84848737716675%\n"
     ]
    }
   ],
   "source": [
    "test_loss,test_accuracy=model.evaluate(test_data)\n",
    "print(f\"loss is {test_loss} and accuracy is {test_accuracy*100}%\")"
   ]
  },
  {
   "cell_type": "code",
   "execution_count": 63,
   "metadata": {},
   "outputs": [],
   "source": [
    "#predictions=model.predict(test_data)\n",
    "predictions=(model.predict(test_data)>0.5).astype(\"int32\")"
   ]
  },
  {
   "cell_type": "code",
   "execution_count": 67,
   "metadata": {},
   "outputs": [
    {
     "data": {
      "text/plain": [
       "<MapDataset shapes: (OrderedDict([(sex, (None,)), (class, (None,)), (deck, (None,)), (embark_town, (None,)), (alone, (None,)), (numeric, (None, 4))]), (None,)), types: (OrderedDict([(sex, tf.string), (class, tf.string), (deck, tf.string), (embark_town, tf.string), (alone, tf.string), (numeric, tf.float32)]), tf.int32)>"
      ]
     },
     "execution_count": 67,
     "metadata": {},
     "output_type": "execute_result"
    }
   ],
   "source": [
    "test_data"
   ]
  },
  {
   "cell_type": "code",
   "execution_count": 88,
   "metadata": {},
   "outputs": [
    {
     "data": {
      "text/plain": [
       "<tf.Tensor: shape=(5,), dtype=int32, numpy=array([0, 1, 1, 0, 1])>"
      ]
     },
     "execution_count": 88,
     "metadata": {},
     "output_type": "execute_result"
    }
   ],
   "source": [
    "list(test_data)[0][1][:10]"
   ]
  },
  {
   "cell_type": "code",
   "execution_count": 99,
   "metadata": {},
   "outputs": [
    {
     "name": "stdout",
     "output_type": "stream",
     "text": [
      "predicted survival :8.141198754310608% | Actual outcome :  Died\n",
      "predicted survival :99.99201893806458% | Actual outcome :  Survived\n",
      "predicted survival :17.781606316566467% | Actual outcome :  Survived\n",
      "predicted survival :9.822583198547363% | Actual outcome :  Died\n",
      "predicted survival :98.36503267288208% | Actual outcome :  Died\n"
     ]
    }
   ],
   "source": [
    "pred=model.predict(test_data)\n",
    "for prediction,survived in zip(pred[:10],list(test_data)[0][1][:10]):\n",
    "    prediction=tf.sigmoid(prediction).numpy()\n",
    "    print(f\"predicted survival :{prediction[0]*100}%\",\"| Actual outcome : \",(\"Survived\" if bool(survived) else \"Died\"))\n",
    "    "
   ]
  },
  {
   "cell_type": "code",
   "execution_count": null,
   "metadata": {},
   "outputs": [],
   "source": []
  }
 ],
 "metadata": {
  "kernelspec": {
   "display_name": "Python 3",
   "language": "python",
   "name": "python3"
  },
  "language_info": {
   "codemirror_mode": {
    "name": "ipython",
    "version": 3
   },
   "file_extension": ".py",
   "mimetype": "text/x-python",
   "name": "python",
   "nbconvert_exporter": "python",
   "pygments_lexer": "ipython3",
   "version": "3.7.3"
  }
 },
 "nbformat": 4,
 "nbformat_minor": 2
}
